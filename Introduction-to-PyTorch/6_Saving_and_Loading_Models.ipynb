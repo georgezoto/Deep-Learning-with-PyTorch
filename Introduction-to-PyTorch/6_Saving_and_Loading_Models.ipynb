{
  "nbformat": 4,
  "nbformat_minor": 0,
  "metadata": {
    "kernelspec": {
      "display_name": "Python 3",
      "language": "python",
      "name": "python3"
    },
    "language_info": {
      "codemirror_mode": {
        "name": "ipython",
        "version": 3
      },
      "file_extension": ".py",
      "mimetype": "text/x-python",
      "name": "python",
      "nbconvert_exporter": "python",
      "pygments_lexer": "ipython3",
      "version": "3.6.6"
    },
    "colab": {
      "name": "6_Saving_and_Loading_Models.ipynb",
      "provenance": [],
      "collapsed_sections": [],
      "include_colab_link": true
    }
  },
  "cells": [
    {
      "cell_type": "markdown",
      "metadata": {
        "id": "view-in-github",
        "colab_type": "text"
      },
      "source": [
        "<a href=\"https://colab.research.google.com/github/georgezoto/Deep-Learning-with-PyTorch/blob/master/Introduction-to-PyTorch/6_Saving_and_Loading_Models.ipynb\" target=\"_parent\"><img src=\"https://colab.research.google.com/assets/colab-badge.svg\" alt=\"Open In Colab\"/></a>"
      ]
    },
    {
      "cell_type": "markdown",
      "metadata": {
        "id": "X-gE4b-dnJ17",
        "colab_type": "text"
      },
      "source": [
        "## Mount Google Drive for images and datasets ##\n",
        "\n",
        "Using Colab, we need to mount our Google Drive in our virtual machine using an authorization code to access our images and train and test datasets.\n",
        "\n",
        "- https://colab.research.google.com/notebooks/io.ipynb#scrollTo=RWSJpsyKqHjH"
      ]
    },
    {
      "cell_type": "code",
      "metadata": {
        "id": "Eo8VwP-HnMTH",
        "colab_type": "code",
        "colab": {}
      },
      "source": [
        "from google.colab import drive\n",
        "drive.mount('/content/gdrive')\n",
        "\n",
        "google_drive_path = '/content/gdrive/My Drive/+Colab Notebooks/Deep-Learning-with-PyTorch/Introduction-to-PyTorch'\n",
        "\n",
        "import sys\n",
        "sys.path.append(google_drive_path)"
      ],
      "execution_count": 0,
      "outputs": []
    },
    {
      "cell_type": "markdown",
      "metadata": {
        "id": "WQS_Sk8XnDbf",
        "colab_type": "text"
      },
      "source": [
        "# Saving and Loading Models\n",
        "\n",
        "In this notebook, I'll show you how to save and load models with PyTorch. This is important because you'll often want to load previously trained models to use in making predictions or to continue training on new data."
      ]
    },
    {
      "cell_type": "code",
      "metadata": {
        "id": "D5Mwco10nDbh",
        "colab_type": "code",
        "colab": {}
      },
      "source": [
        "%matplotlib inline\n",
        "%config InlineBackend.figure_format = 'retina'\n",
        "\n",
        "import matplotlib.pyplot as plt\n",
        "\n",
        "import torch\n",
        "from torch import nn, optim\n",
        "import torch.nn.functional as F\n",
        "from torchvision import datasets, transforms\n",
        "\n",
        "import helper\n",
        "import fc_model"
      ],
      "execution_count": 0,
      "outputs": []
    },
    {
      "cell_type": "code",
      "metadata": {
        "id": "GW350P8LnDbj",
        "colab_type": "code",
        "colab": {
          "base_uri": "https://localhost:8080/",
          "height": 275
        },
        "outputId": "f7ca11cc-7797-4bd6-cd6a-780c56ca628f"
      },
      "source": [
        "# Define a transform to normalize the data\n",
        "transform = transforms.Compose([transforms.ToTensor(),\n",
        "                                transforms.Normalize((0.5,), (0.5,))])\n",
        "# Download and load the training data\n",
        "trainset = datasets.FashionMNIST('~/.pytorch/F_MNIST_data/', download=True, train=True, transform=transform)\n",
        "trainloader = torch.utils.data.DataLoader(trainset, batch_size=64, shuffle=True)\n",
        "\n",
        "# Download and load the test data\n",
        "testset = datasets.FashionMNIST('~/.pytorch/F_MNIST_data/', download=True, train=False, transform=transform)\n",
        "testloader = torch.utils.data.DataLoader(testset, batch_size=64, shuffle=True)"
      ],
      "execution_count": 3,
      "outputs": [
        {
          "output_type": "stream",
          "text": [
            "\r0it [00:00, ?it/s]"
          ],
          "name": "stderr"
        },
        {
          "output_type": "stream",
          "text": [
            "Downloading http://fashion-mnist.s3-website.eu-central-1.amazonaws.com/train-images-idx3-ubyte.gz to /root/.pytorch/F_MNIST_data/FashionMNIST/raw/train-images-idx3-ubyte.gz\n"
          ],
          "name": "stdout"
        },
        {
          "output_type": "stream",
          "text": [
            "26427392it [00:01, 14412428.30it/s]                              \n"
          ],
          "name": "stderr"
        },
        {
          "output_type": "stream",
          "text": [
            "Extracting /root/.pytorch/F_MNIST_data/FashionMNIST/raw/train-images-idx3-ubyte.gz to /root/.pytorch/F_MNIST_data/FashionMNIST/raw\n"
          ],
          "name": "stdout"
        },
        {
          "output_type": "stream",
          "text": [
            "\r0it [00:00, ?it/s]"
          ],
          "name": "stderr"
        },
        {
          "output_type": "stream",
          "text": [
            "Downloading http://fashion-mnist.s3-website.eu-central-1.amazonaws.com/train-labels-idx1-ubyte.gz to /root/.pytorch/F_MNIST_data/FashionMNIST/raw/train-labels-idx1-ubyte.gz\n"
          ],
          "name": "stdout"
        },
        {
          "output_type": "stream",
          "text": [
            "32768it [00:00, 81594.23it/s]            \n",
            "0it [00:00, ?it/s]"
          ],
          "name": "stderr"
        },
        {
          "output_type": "stream",
          "text": [
            "Extracting /root/.pytorch/F_MNIST_data/FashionMNIST/raw/train-labels-idx1-ubyte.gz to /root/.pytorch/F_MNIST_data/FashionMNIST/raw\n",
            "Downloading http://fashion-mnist.s3-website.eu-central-1.amazonaws.com/t10k-images-idx3-ubyte.gz to /root/.pytorch/F_MNIST_data/FashionMNIST/raw/t10k-images-idx3-ubyte.gz\n"
          ],
          "name": "stdout"
        },
        {
          "output_type": "stream",
          "text": [
            "4423680it [00:01, 4354108.59it/s]                             \n",
            "0it [00:00, ?it/s]"
          ],
          "name": "stderr"
        },
        {
          "output_type": "stream",
          "text": [
            "Extracting /root/.pytorch/F_MNIST_data/FashionMNIST/raw/t10k-images-idx3-ubyte.gz to /root/.pytorch/F_MNIST_data/FashionMNIST/raw\n",
            "Downloading http://fashion-mnist.s3-website.eu-central-1.amazonaws.com/t10k-labels-idx1-ubyte.gz to /root/.pytorch/F_MNIST_data/FashionMNIST/raw/t10k-labels-idx1-ubyte.gz\n"
          ],
          "name": "stdout"
        },
        {
          "output_type": "stream",
          "text": [
            "8192it [00:00, 31325.40it/s]            "
          ],
          "name": "stderr"
        },
        {
          "output_type": "stream",
          "text": [
            "Extracting /root/.pytorch/F_MNIST_data/FashionMNIST/raw/t10k-labels-idx1-ubyte.gz to /root/.pytorch/F_MNIST_data/FashionMNIST/raw\n",
            "Processing...\n",
            "Done!\n"
          ],
          "name": "stdout"
        },
        {
          "output_type": "stream",
          "text": [
            "\n"
          ],
          "name": "stderr"
        }
      ]
    },
    {
      "cell_type": "markdown",
      "metadata": {
        "id": "b38AFlelnDbl",
        "colab_type": "text"
      },
      "source": [
        "Here we can see one of the images."
      ]
    },
    {
      "cell_type": "code",
      "metadata": {
        "id": "vnVL73H4nDbl",
        "colab_type": "code",
        "colab": {
          "base_uri": "https://localhost:8080/",
          "height": 248
        },
        "outputId": "224b0c99-0671-47d3-d125-7f1ccc664032"
      },
      "source": [
        "image, label = next(iter(trainloader))\n",
        "helper.imshow(image[0,:]);"
      ],
      "execution_count": 5,
      "outputs": [
        {
          "output_type": "display_data",
          "data": {
            "image/png": "[encoded data removed]",
            "text/plain": [
              "<Figure size 432x288 with 1 Axes>"
            ]
          },
          "metadata": {
            "tags": [],
            "image/png": {
              "width": 231,
              "height": 231
            }
          }
        }
      ]
    },
    {
      "cell_type": "markdown",
      "metadata": {
        "id": "SUYKvz0RnDbn",
        "colab_type": "text"
      },
      "source": [
        "# Train a network\n",
        "\n",
        "To make things more concise here, I moved the model architecture and training code from the last part to a file called `fc_model`. Importing this, we can easily create a fully-connected network with `fc_model.Network`, and train the network using `fc_model.train`. I'll use this model (once it's trained) to demonstrate how we can save and load models."
      ]
    },
    {
      "cell_type": "code",
      "metadata": {
        "id": "mfABjUNMnDbo",
        "colab_type": "code",
        "colab": {}
      },
      "source": [
        "# Create the network, define the criterion and optimizer\n",
        "\n",
        "model = fc_model.Network(784, 10, [512, 256, 128])\n",
        "criterion = nn.NLLLoss()\n",
        "optimizer = optim.Adam(model.parameters(), lr=0.001)"
      ],
      "execution_count": 0,
      "outputs": []
    },
    {
      "cell_type": "code",
      "metadata": {
        "id": "BrQRbxd8nDbq",
        "colab_type": "code",
        "colab": {
          "base_uri": "https://localhost:8080/",
          "height": 799
        },
        "outputId": "e60e6b74-3eac-43c7-fcd4-2103c39b631f"
      },
      "source": [
        "fc_model.train(model, trainloader, testloader, criterion, optimizer, epochs=2)"
      ],
      "execution_count": 7,
      "outputs": [
        {
          "output_type": "stream",
          "text": [
            "Epoch: 1/2..  Training Loss: 1.692..  Test Loss: 0.992..  Test Accuracy: 0.649\n",
            "Epoch: 1/2..  Training Loss: 1.097..  Test Loss: 0.762..  Test Accuracy: 0.720\n",
            "Epoch: 1/2..  Training Loss: 0.869..  Test Loss: 0.670..  Test Accuracy: 0.748\n",
            "Epoch: 1/2..  Training Loss: 0.806..  Test Loss: 0.669..  Test Accuracy: 0.749\n",
            "Epoch: 1/2..  Training Loss: 0.805..  Test Loss: 0.625..  Test Accuracy: 0.766\n",
            "Epoch: 1/2..  Training Loss: 0.731..  Test Loss: 0.609..  Test Accuracy: 0.770\n",
            "Epoch: 1/2..  Training Loss: 0.694..  Test Loss: 0.586..  Test Accuracy: 0.782\n",
            "Epoch: 1/2..  Training Loss: 0.642..  Test Loss: 0.566..  Test Accuracy: 0.796\n",
            "Epoch: 1/2..  Training Loss: 0.690..  Test Loss: 0.595..  Test Accuracy: 0.776\n",
            "Epoch: 1/2..  Training Loss: 0.628..  Test Loss: 0.532..  Test Accuracy: 0.800\n",
            "Epoch: 1/2..  Training Loss: 0.621..  Test Loss: 0.518..  Test Accuracy: 0.807\n",
            "Epoch: 1/2..  Training Loss: 0.631..  Test Loss: 0.522..  Test Accuracy: 0.812\n",
            "Epoch: 1/2..  Training Loss: 0.634..  Test Loss: 0.523..  Test Accuracy: 0.809\n",
            "Epoch: 1/2..  Training Loss: 0.621..  Test Loss: 0.527..  Test Accuracy: 0.807\n",
            "Epoch: 1/2..  Training Loss: 0.611..  Test Loss: 0.523..  Test Accuracy: 0.802\n",
            "Epoch: 1/2..  Training Loss: 0.593..  Test Loss: 0.498..  Test Accuracy: 0.813\n",
            "Epoch: 1/2..  Training Loss: 0.581..  Test Loss: 0.499..  Test Accuracy: 0.819\n",
            "Epoch: 1/2..  Training Loss: 0.561..  Test Loss: 0.484..  Test Accuracy: 0.823\n",
            "Epoch: 1/2..  Training Loss: 0.580..  Test Loss: 0.480..  Test Accuracy: 0.825\n",
            "Epoch: 1/2..  Training Loss: 0.501..  Test Loss: 0.488..  Test Accuracy: 0.821\n",
            "Epoch: 1/2..  Training Loss: 0.546..  Test Loss: 0.476..  Test Accuracy: 0.824\n",
            "Epoch: 1/2..  Training Loss: 0.607..  Test Loss: 0.480..  Test Accuracy: 0.817\n",
            "Epoch: 1/2..  Training Loss: 0.611..  Test Loss: 0.489..  Test Accuracy: 0.825\n",
            "Epoch: 2/2..  Training Loss: 0.562..  Test Loss: 0.485..  Test Accuracy: 0.827\n",
            "Epoch: 2/2..  Training Loss: 0.591..  Test Loss: 0.480..  Test Accuracy: 0.820\n",
            "Epoch: 2/2..  Training Loss: 0.588..  Test Loss: 0.479..  Test Accuracy: 0.827\n",
            "Epoch: 2/2..  Training Loss: 0.560..  Test Loss: 0.481..  Test Accuracy: 0.822\n",
            "Epoch: 2/2..  Training Loss: 0.553..  Test Loss: 0.475..  Test Accuracy: 0.827\n",
            "Epoch: 2/2..  Training Loss: 0.543..  Test Loss: 0.469..  Test Accuracy: 0.830\n",
            "Epoch: 2/2..  Training Loss: 0.540..  Test Loss: 0.473..  Test Accuracy: 0.829\n",
            "Epoch: 2/2..  Training Loss: 0.544..  Test Loss: 0.484..  Test Accuracy: 0.823\n",
            "Epoch: 2/2..  Training Loss: 0.522..  Test Loss: 0.456..  Test Accuracy: 0.835\n",
            "Epoch: 2/2..  Training Loss: 0.504..  Test Loss: 0.455..  Test Accuracy: 0.836\n",
            "Epoch: 2/2..  Training Loss: 0.516..  Test Loss: 0.455..  Test Accuracy: 0.831\n",
            "Epoch: 2/2..  Training Loss: 0.543..  Test Loss: 0.474..  Test Accuracy: 0.824\n",
            "Epoch: 2/2..  Training Loss: 0.539..  Test Loss: 0.481..  Test Accuracy: 0.825\n",
            "Epoch: 2/2..  Training Loss: 0.548..  Test Loss: 0.457..  Test Accuracy: 0.833\n",
            "Epoch: 2/2..  Training Loss: 0.537..  Test Loss: 0.448..  Test Accuracy: 0.832\n",
            "Epoch: 2/2..  Training Loss: 0.558..  Test Loss: 0.463..  Test Accuracy: 0.826\n",
            "Epoch: 2/2..  Training Loss: 0.524..  Test Loss: 0.452..  Test Accuracy: 0.835\n",
            "Epoch: 2/2..  Training Loss: 0.546..  Test Loss: 0.454..  Test Accuracy: 0.837\n",
            "Epoch: 2/2..  Training Loss: 0.490..  Test Loss: 0.439..  Test Accuracy: 0.837\n",
            "Epoch: 2/2..  Training Loss: 0.531..  Test Loss: 0.472..  Test Accuracy: 0.833\n",
            "Epoch: 2/2..  Training Loss: 0.550..  Test Loss: 0.442..  Test Accuracy: 0.840\n",
            "Epoch: 2/2..  Training Loss: 0.490..  Test Loss: 0.436..  Test Accuracy: 0.839\n",
            "Epoch: 2/2..  Training Loss: 0.525..  Test Loss: 0.452..  Test Accuracy: 0.837\n"
          ],
          "name": "stdout"
        }
      ]
    },
    {
      "cell_type": "markdown",
      "metadata": {
        "id": "Gin60WORnDbr",
        "colab_type": "text"
      },
      "source": [
        "## Saving and loading networks\n",
        "\n",
        "As you can imagine, it's impractical to train a network every time you need to use it. Instead, we can save trained networks then load them later to train more or use them for predictions.\n",
        "\n",
        "The parameters for PyTorch networks are stored in a model's `state_dict`. We can see the state dict contains the weight and bias matrices for each of our layers."
      ]
    },
    {
      "cell_type": "code",
      "metadata": {
        "id": "vFJIKmt9nDbs",
        "colab_type": "code",
        "colab": {
          "base_uri": "https://localhost:8080/",
          "height": 292
        },
        "outputId": "079969e9-9451-4819-9c7c-f6007684752e"
      },
      "source": [
        "print(\"Our model: \\n\\n\", model, '\\n')\n",
        "print(\"The state dict keys: \\n\\n\", model.state_dict().keys())"
      ],
      "execution_count": 8,
      "outputs": [
        {
          "output_type": "stream",
          "text": [
            "Our model: \n",
            "\n",
            " Network(\n",
            "  (hidden_layers): ModuleList(\n",
            "    (0): Linear(in_features=784, out_features=512, bias=True)\n",
            "    (1): Linear(in_features=512, out_features=256, bias=True)\n",
            "    (2): Linear(in_features=256, out_features=128, bias=True)\n",
            "  )\n",
            "  (output): Linear(in_features=128, out_features=10, bias=True)\n",
            "  (dropout): Dropout(p=0.5, inplace=False)\n",
            ") \n",
            "\n",
            "The state dict keys: \n",
            "\n",
            " odict_keys(['hidden_layers.0.weight', 'hidden_layers.0.bias', 'hidden_layers.1.weight', 'hidden_layers.1.bias', 'hidden_layers.2.weight', 'hidden_layers.2.bias', 'output.weight', 'output.bias'])\n"
          ],
          "name": "stdout"
        }
      ]
    },
    {
      "cell_type": "code",
      "metadata": {
        "id": "HC8uF661o6C7",
        "colab_type": "code",
        "colab": {
          "base_uri": "https://localhost:8080/",
          "height": 1000
        },
        "outputId": "c7479d21-91e3-44a6-d314-6a1f20b8b35a"
      },
      "source": [
        "model.state_dict()"
      ],
      "execution_count": 9,
      "outputs": [
        {
          "output_type": "execute_result",
          "data": {
            "text/plain": [
              "OrderedDict([('hidden_layers.0.weight',\n",
              "              tensor([[ 0.0392,  0.0575,  0.0629,  ...,  0.0037,  0.0595, -0.0006],\n",
              "                      [ 0.0077,  0.0180,  0.0246,  ..., -0.0059,  0.0367,  0.0190],\n",
              "                      [-0.0165,  0.0109, -0.0018,  ...,  0.0015,  0.0178,  0.0308],\n",
              "                      ...,\n",
              "                      [-0.0101,  0.0029,  0.0097,  ..., -0.0045,  0.0340,  0.0428],\n",
              "                      [-0.0088,  0.0111, -0.0164,  ..., -0.0156,  0.0228,  0.0260],\n",
              "                      [ 0.0433,  0.0245,  0.0501,  ...,  0.0139,  0.0336, -0.0045]])),\n",
              "             ('hidden_layers.0.bias',\n",
              "              tensor([-5.8629e-02, -7.6891e-03, -2.1175e-03, -3.1568e-02, -4.4510e-02,\n",
              "                      -4.3242e-02, -3.3945e-02, -5.2931e-02, -9.9877e-03, -2.3563e-02,\n",
              "                      -1.4935e-02, -5.0662e-02, -7.8535e-02, -9.5861e-03, -6.0546e-02,\n",
              "                      -2.3252e-02, -2.8670e-03,  2.2240e-02, -5.7175e-02,  6.3251e-03,\n",
              "                      -8.1680e-03,  1.0293e-04, -1.1148e-02, -5.7291e-02, -3.3766e-02,\n",
              "                      -1.3859e-02,  2.8920e-03, -4.6323e-02, -1.3886e-02, -3.9069e-03,\n",
              "                       2.9852e-02,  4.0599e-03, -5.0532e-02,  9.9498e-03, -1.1228e-02,\n",
              "                      -5.9185e-02,  1.2924e-02, -2.7101e-03, -5.5560e-02, -8.7631e-03,\n",
              "                      -3.6012e-02,  3.0113e-03, -3.5909e-02, -8.7567e-03,  2.2523e-02,\n",
              "                      -4.4671e-02, -4.9722e-02,  3.3944e-02,  3.7730e-04, -1.6465e-02,\n",
              "                       9.9316e-03, -2.8727e-02,  2.7147e-02, -2.6584e-02, -2.6464e-02,\n",
              "                      -6.2597e-02, -3.9945e-02, -1.5378e-02, -7.1362e-03,  1.5349e-02,\n",
              "                      -9.4753e-03, -1.0589e-02, -3.0065e-02, -2.6437e-02,  7.2105e-03,\n",
              "                      -4.3596e-02, -2.3678e-02, -1.8539e-02,  1.2468e-02, -4.5565e-02,\n",
              "                       1.4262e-02, -4.7493e-03,  6.9079e-03, -1.1386e-02, -5.0501e-03,\n",
              "                      -2.0183e-02, -2.3466e-02, -2.0287e-02, -5.0092e-02,  5.8853e-03,\n",
              "                       3.2827e-02, -1.1186e-02, -3.7986e-02, -5.2665e-02, -5.1423e-02,\n",
              "                      -4.3145e-02, -7.5583e-02, -2.6435e-02, -1.8135e-02, -3.2709e-02,\n",
              "                      -6.6719e-03, -1.4102e-04,  8.9251e-03, -3.2359e-02, -2.9130e-02,\n",
              "                      -6.9679e-02,  2.8302e-03,  3.8410e-02, -6.2158e-02, -2.1519e-02,\n",
              "                       1.0631e-02, -1.0238e-02, -1.6493e-02, -1.2701e-03, -4.1865e-02,\n",
              "                      -2.9017e-02, -1.3506e-02, -4.2643e-02, -7.5884e-03, -1.7139e-02,\n",
              "                       1.8736e-02, -1.5939e-02, -2.7435e-02, -2.7252e-02,  1.5923e-02,\n",
              "                       8.9523e-03, -1.7113e-02, -5.1904e-02, -1.3058e-02, -3.3104e-02,\n",
              "                      -6.5888e-03, -1.5462e-02, -2.9702e-02, -2.2617e-02, -1.9117e-02,\n",
              "                      -1.2930e-02, -2.7006e-02, -3.8022e-03,  3.8055e-03, -4.6023e-02,\n",
              "                      -5.0089e-02, -4.0940e-02,  2.2637e-02, -4.4669e-02,  1.5258e-02,\n",
              "                       1.4235e-03, -3.9261e-02, -5.4649e-02, -3.7250e-02, -3.1765e-02,\n",
              "                      -7.5589e-03, -3.8282e-02, -2.9479e-02, -5.1144e-02, -3.8688e-02,\n",
              "                       9.6783e-04, -2.0400e-02, -4.4824e-02, -4.0032e-02, -8.4539e-03,\n",
              "                       1.5603e-03, -3.1765e-02,  2.0157e-03,  1.8609e-03, -3.1644e-02,\n",
              "                      -5.3456e-02, -1.4396e-02, -4.2556e-02,  6.6585e-03, -1.4132e-02,\n",
              "                       5.7319e-02, -4.1342e-02, -3.4633e-02, -7.3342e-03, -3.6686e-02,\n",
              "                      -5.0850e-02, -4.5873e-02, -2.3032e-02, -4.3428e-02, -2.3410e-02,\n",
              "                      -3.1032e-02, -2.7579e-02, -9.3775e-03,  3.3244e-02,  1.1669e-02,\n",
              "                      -1.1523e-02, -4.4483e-03, -3.9482e-02, -4.0104e-02,  5.6773e-03,\n",
              "                      -3.4242e-02, -1.8930e-04,  3.9287e-02, -2.2670e-02,  9.9686e-03,\n",
              "                      -7.3319e-03, -5.1603e-02, -3.7278e-02, -1.1365e-02, -4.2101e-02,\n",
              "                      -4.7378e-03,  1.0181e-03, -4.9865e-02, -2.0686e-02, -3.5919e-02,\n",
              "                      -5.9393e-02,  1.1599e-02, -5.4458e-03,  9.2240e-03, -2.1222e-02,\n",
              "                      -5.0198e-03, -5.1926e-02, -1.7631e-02, -5.5540e-02, -4.2876e-02,\n",
              "                      -1.5908e-02, -4.8023e-02, -3.0860e-02, -1.3337e-02, -4.0657e-02,\n",
              "                      -4.4276e-02, -6.1906e-02,  1.6467e-02,  1.1337e-02, -6.5167e-02,\n",
              "                       5.2769e-03, -3.2000e-02, -5.8924e-02,  1.0508e-03, -6.9677e-02,\n",
              "                       8.7617e-03,  2.6722e-02, -3.5517e-02, -4.3527e-02,  4.2240e-02,\n",
              "                      -6.0357e-03, -2.2592e-02, -2.0894e-02,  7.3331e-03,  7.8161e-03,\n",
              "                      -1.6840e-02,  1.5564e-02, -1.2364e-03,  1.1210e-02, -1.8034e-02,\n",
              "                      -1.2221e-02, -5.7375e-02,  1.8223e-02, -7.8892e-04, -1.8988e-02,\n",
              "                      -4.0020e-04,  9.9047e-03, -3.8639e-02, -7.4201e-03, -1.2740e-02,\n",
              "                      -4.8704e-02, -2.1374e-03, -4.8965e-02,  1.9569e-03, -2.0130e-02,\n",
              "                       6.0366e-03, -3.2655e-02, -2.0953e-02,  1.3062e-02, -1.8777e-02,\n",
              "                       1.5391e-02, -1.5103e-02, -3.2259e-02, -4.8632e-02, -2.5284e-02,\n",
              "                      -9.2881e-03, -4.6119e-02, -1.1530e-02, -1.8700e-02, -6.3686e-02,\n",
              "                      -1.6860e-02,  1.9077e-02, -3.2965e-02, -3.8221e-04, -1.7910e-02,\n",
              "                      -1.1042e-02, -3.5259e-02,  2.0742e-02, -3.4550e-02, -1.6211e-02,\n",
              "                      -1.8464e-02, -1.7846e-02, -6.4277e-03,  2.1912e-03,  2.3046e-02,\n",
              "                      -5.8206e-02, -4.7578e-02, -4.0044e-03, -1.5981e-02, -5.1324e-02,\n",
              "                      -5.2561e-02, -4.3886e-02,  1.6759e-05, -1.5007e-02, -4.9729e-02,\n",
              "                       1.8426e-02, -2.1257e-02, -1.5641e-02, -5.1930e-03, -9.2344e-03,\n",
              "                      -4.4937e-02,  1.7208e-03, -9.4828e-03, -2.1122e-02, -2.8279e-03,\n",
              "                       7.5626e-03, -2.3417e-02,  8.1187e-03, -2.6514e-02, -3.0204e-02,\n",
              "                      -1.6137e-02, -4.3802e-02, -7.2437e-02, -5.5638e-02, -1.0595e-02,\n",
              "                      -4.2363e-04, -2.3255e-02, -4.0741e-02, -3.8813e-02,  1.1884e-02,\n",
              "                      -4.1914e-02,  1.0548e-02, -2.0690e-02, -1.5993e-02,  3.6633e-02,\n",
              "                       3.2311e-03, -3.6849e-02, -3.8754e-02, -7.6722e-03, -1.8268e-02,\n",
              "                      -6.7442e-02, -2.9412e-02, -3.0141e-02,  1.3242e-02,  8.7837e-03,\n",
              "                      -4.4343e-02, -1.6714e-02, -5.2850e-02, -3.9604e-02, -4.1021e-02,\n",
              "                      -1.4555e-02, -2.1429e-02, -6.1565e-02,  1.9835e-03,  5.4296e-03,\n",
              "                      -2.8158e-02, -7.0618e-02, -1.0238e-02, -2.3756e-02,  2.4421e-03,\n",
              "                      -4.6596e-02, -8.1351e-03, -2.8022e-02, -2.6350e-02, -1.6948e-02,\n",
              "                       4.5411e-02, -3.3961e-02, -7.4538e-02,  4.0812e-03, -3.6434e-02,\n",
              "                      -2.0431e-02, -1.5909e-02,  4.0884e-03, -5.1396e-02, -4.5495e-02,\n",
              "                      -6.6572e-02,  1.6421e-02, -5.3867e-02, -4.4375e-02, -5.2772e-02,\n",
              "                      -3.2916e-02, -2.9459e-02, -4.4767e-02, -2.9370e-02,  4.4811e-02,\n",
              "                       9.9123e-03, -5.3767e-02, -2.5319e-02, -1.4876e-02, -5.1292e-02,\n",
              "                       2.6291e-02,  2.2627e-02, -1.6060e-02, -5.0897e-03, -8.7603e-04,\n",
              "                      -3.5691e-02, -1.1429e-02, -3.4539e-02, -3.3112e-02, -2.6077e-02,\n",
              "                      -2.0192e-02, -2.6988e-02, -4.0342e-03, -3.1569e-02,  9.0711e-03,\n",
              "                      -4.1852e-02, -4.8948e-02, -4.1071e-03, -4.4186e-02, -1.1757e-02,\n",
              "                      -1.4211e-02,  1.2748e-02, -1.5295e-02, -3.7109e-02, -6.2427e-02,\n",
              "                      -3.4994e-02, -1.4400e-03,  6.5805e-03, -8.5087e-03, -2.1153e-02,\n",
              "                      -9.9821e-03,  8.6110e-03, -8.9684e-03,  2.2420e-02, -6.1359e-02,\n",
              "                      -1.2430e-02,  1.2179e-02, -5.3338e-02, -1.6476e-02, -4.1995e-02,\n",
              "                      -2.8091e-02, -1.2096e-02,  6.0608e-03, -2.9902e-02, -3.2685e-02,\n",
              "                       1.9744e-02, -6.7186e-03, -3.8099e-02, -6.3858e-02, -2.7147e-02,\n",
              "                      -7.6986e-04, -8.5399e-03, -5.8488e-02,  2.3492e-02, -2.0855e-02,\n",
              "                      -5.1077e-02, -1.2366e-02,  2.4374e-03, -3.6127e-02, -2.1608e-02,\n",
              "                       5.0558e-03, -5.3203e-02, -3.5533e-02, -1.6989e-02, -1.7440e-02,\n",
              "                       1.0573e-02, -5.4554e-02, -4.3714e-03, -6.0025e-03,  2.6636e-02,\n",
              "                      -2.7761e-02, -3.1340e-02,  4.6601e-03,  4.6910e-02, -1.7002e-02,\n",
              "                      -3.8194e-02, -4.5783e-02,  1.5594e-02, -4.1660e-02, -9.3513e-03,\n",
              "                      -7.7738e-03, -5.2725e-03,  7.9581e-03, -4.4583e-02, -4.2540e-02,\n",
              "                      -4.5649e-02, -4.5477e-02, -3.8347e-02,  1.1008e-02, -2.5826e-02,\n",
              "                       9.5092e-03,  2.2105e-02, -5.0254e-02,  6.6286e-03, -1.5068e-03,\n",
              "                      -2.3760e-02, -4.2485e-02, -2.5417e-02, -5.6475e-02, -6.7418e-02,\n",
              "                      -2.6511e-02, -5.0225e-02, -2.6461e-02, -3.7019e-02, -5.9647e-03,\n",
              "                       1.2124e-02,  2.5351e-03, -3.7414e-03,  2.3850e-02, -1.9075e-02,\n",
              "                      -2.6135e-02,  1.6632e-02, -4.0768e-02,  1.4170e-02, -4.4509e-02,\n",
              "                       3.3033e-02, -1.6936e-02, -1.5572e-02, -4.7187e-02, -4.3393e-02,\n",
              "                       2.9274e-02, -3.5331e-02, -3.0343e-02,  1.3158e-02, -4.7499e-02,\n",
              "                      -2.4498e-02, -1.0218e-02, -1.1641e-02, -1.7197e-02,  1.9694e-02,\n",
              "                       1.0009e-02, -3.9256e-03, -3.6859e-02, -4.4998e-02, -4.2307e-02,\n",
              "                       1.5593e-02, -4.1298e-02])),\n",
              "             ('hidden_layers.1.weight',\n",
              "              tensor([[-0.0448, -0.0098, -0.0141,  ..., -0.0443, -0.0352,  0.0334],\n",
              "                      [-0.1040,  0.0751,  0.0230,  ..., -0.0573,  0.0252,  0.0191],\n",
              "                      [-0.0007, -0.0191,  0.0094,  ..., -0.0324, -0.0302,  0.0587],\n",
              "                      ...,\n",
              "                      [-0.0465,  0.0044,  0.0214,  ..., -0.0285, -0.0213,  0.0103],\n",
              "                      [ 0.0349, -0.0037,  0.0222,  ..., -0.0171, -0.0767,  0.0566],\n",
              "                      [-0.0009, -0.0111, -0.0155,  ..., -0.0006, -0.0152,  0.0851]])),\n",
              "             ('hidden_layers.1.bias',\n",
              "              tensor([ 0.0151, -0.0232,  0.0212,  0.0545, -0.0492,  0.0129,  0.0573,  0.0414,\n",
              "                       0.0365, -0.0410,  0.0201,  0.0100,  0.1170, -0.0642,  0.0021, -0.0267,\n",
              "                       0.0131, -0.0736, -0.0786, -0.0270,  0.0722, -0.0333,  0.0369,  0.0662,\n",
              "                      -0.0070, -0.0344,  0.0471,  0.0568, -0.0091,  0.0391, -0.0091, -0.0290,\n",
              "                      -0.0140, -0.0530,  0.0425,  0.0246,  0.0608,  0.0362,  0.0278,  0.0227,\n",
              "                       0.0309, -0.0355, -0.0021,  0.0355,  0.0630,  0.0145,  0.0560, -0.0506,\n",
              "                       0.0472,  0.0268, -0.0417,  0.0563, -0.0262,  0.0326,  0.0703, -0.0892,\n",
              "                      -0.0038,  0.0254, -0.0211, -0.0099, -0.0075,  0.0543,  0.0603, -0.0347,\n",
              "                       0.1073,  0.0326,  0.0179,  0.0059, -0.0622,  0.0270,  0.0166, -0.0709,\n",
              "                       0.0291,  0.0936,  0.0165, -0.0595,  0.0234,  0.0593, -0.0335,  0.0404,\n",
              "                      -0.0324,  0.0178,  0.0481, -0.0035,  0.0369, -0.0290,  0.0512,  0.0186,\n",
              "                      -0.0433,  0.0215,  0.0049, -0.0690, -0.0007, -0.0821, -0.0094, -0.0134,\n",
              "                      -0.0474,  0.0443,  0.0253, -0.0089, -0.0043,  0.0087, -0.0617, -0.0295,\n",
              "                       0.0386,  0.0271,  0.0054, -0.0092,  0.0785,  0.0697,  0.0135, -0.0199,\n",
              "                      -0.0211,  0.0409, -0.0199,  0.0187, -0.0641, -0.0042,  0.0748, -0.0407,\n",
              "                       0.0648, -0.0351,  0.0119, -0.0469, -0.0787, -0.0075,  0.0296,  0.0008,\n",
              "                      -0.0480,  0.0522, -0.0576, -0.0692, -0.0085, -0.0242, -0.0345, -0.0188,\n",
              "                      -0.0084,  0.0829,  0.0864,  0.0240,  0.0387, -0.0011,  0.0275, -0.0819,\n",
              "                      -0.0516,  0.0242,  0.0620,  0.0157, -0.0252,  0.0277, -0.0039,  0.0196,\n",
              "                      -0.0352, -0.0269,  0.0391, -0.0388,  0.0020, -0.0931,  0.0314,  0.0806,\n",
              "                      -0.0015,  0.0455,  0.0507,  0.0552,  0.0189,  0.0430, -0.0533,  0.0250,\n",
              "                      -0.0776,  0.0521,  0.0279, -0.0621, -0.0005, -0.0153, -0.0157,  0.0244,\n",
              "                       0.0794,  0.0969, -0.0031, -0.0302,  0.0618,  0.0477, -0.0036,  0.0341,\n",
              "                       0.1244,  0.0667, -0.0517,  0.0528, -0.0460,  0.0440,  0.0320,  0.0297,\n",
              "                       0.0087,  0.1379,  0.0898, -0.0062,  0.0463,  0.0345,  0.0619,  0.0447,\n",
              "                      -0.0333,  0.0577, -0.0316,  0.0104,  0.0345,  0.0444,  0.0392,  0.0088,\n",
              "                       0.0807,  0.0676,  0.0445,  0.0330, -0.0536, -0.0779,  0.0371,  0.0091,\n",
              "                       0.0412,  0.0396,  0.0533,  0.0534,  0.0335,  0.0605,  0.0403,  0.0108,\n",
              "                       0.0347,  0.0315, -0.0410,  0.0246,  0.0468,  0.0057,  0.0542, -0.0254,\n",
              "                      -0.0691, -0.0301,  0.0697, -0.0293,  0.0692,  0.1206,  0.0299,  0.0864,\n",
              "                       0.0546, -0.0501,  0.0605, -0.0277, -0.0401,  0.0281,  0.0263,  0.0621,\n",
              "                       0.0336,  0.0294, -0.0168,  0.0284,  0.0092,  0.0432,  0.0106,  0.0249])),\n",
              "             ('hidden_layers.2.weight',\n",
              "              tensor([[-0.0755, -0.0444, -0.0493,  ..., -0.0208, -0.0146,  0.0386],\n",
              "                      [ 0.0873,  0.0593, -0.0212,  ...,  0.0024, -0.0972, -0.0494],\n",
              "                      [-0.0131,  0.0117, -0.0678,  ..., -0.0092,  0.0891, -0.0760],\n",
              "                      ...,\n",
              "                      [ 0.0227,  0.0099,  0.0406,  ...,  0.0012, -0.0233, -0.0347],\n",
              "                      [ 0.0179,  0.0048, -0.0240,  ..., -0.0673, -0.0321, -0.0278],\n",
              "                      [ 0.0588,  0.0708, -0.0255,  ..., -0.0417, -0.0127, -0.0320]])),\n",
              "             ('hidden_layers.2.bias',\n",
              "              tensor([-0.0519,  0.0731,  0.0661, -0.1044, -0.0462,  0.0495,  0.0280, -0.0673,\n",
              "                       0.0654,  0.1248,  0.1133, -0.0668,  0.1014,  0.0688,  0.1292,  0.1222,\n",
              "                       0.1109,  0.1041,  0.1187,  0.1348, -0.0228,  0.0128,  0.0118,  0.0937,\n",
              "                       0.0661,  0.0827,  0.0023,  0.0551,  0.1725,  0.1651,  0.0446,  0.0101,\n",
              "                       0.0398,  0.0754,  0.0353,  0.0879,  0.0862,  0.0782,  0.0386,  0.0923,\n",
              "                       0.0354, -0.0106,  0.0147,  0.1408,  0.0916,  0.0382,  0.1085, -0.0125,\n",
              "                       0.1170, -0.0346, -0.0068,  0.0989,  0.1132,  0.1161, -0.0207,  0.0466,\n",
              "                       0.0816,  0.0696,  0.1277,  0.1295,  0.1126, -0.0784,  0.1743,  0.0941,\n",
              "                       0.0498,  0.0582,  0.0416,  0.0986,  0.0381,  0.2042,  0.1275,  0.0300,\n",
              "                       0.0938,  0.1494,  0.1068, -0.0130,  0.0236,  0.0648,  0.0079,  0.0621,\n",
              "                       0.0297,  0.0535,  0.0194,  0.0598,  0.0254,  0.0342,  0.0337, -0.0581,\n",
              "                       0.0730,  0.0703,  0.0623,  0.0227,  0.0754,  0.0018,  0.0336, -0.0578,\n",
              "                       0.0124,  0.0804,  0.0404,  0.0019,  0.0851, -0.0042,  0.0997,  0.0900,\n",
              "                       0.0181,  0.0827,  0.0319,  0.0361,  0.0439,  0.0249,  0.1007,  0.0507,\n",
              "                      -0.0329,  0.0777,  0.0640, -0.0696,  0.0436,  0.1110, -0.0103,  0.0503,\n",
              "                       0.0527,  0.0681,  0.1037,  0.1138, -0.0341,  0.1307, -0.0469,  0.0067])),\n",
              "             ('output.weight',\n",
              "              tensor([[ 0.0477,  0.0203,  0.0635,  ...,  0.0357, -0.0488,  0.0579],\n",
              "                      [ 0.0412, -0.0442, -0.0341,  ..., -0.1265,  0.0547, -0.0845],\n",
              "                      [-0.0923, -0.1644,  0.0662,  ...,  0.0314, -0.1596,  0.0365],\n",
              "                      ...,\n",
              "                      [-0.0323, -0.0546, -0.0692,  ..., -0.1638,  0.0411,  0.0575],\n",
              "                      [ 0.0615, -0.0997, -0.0049,  ..., -0.0296, -0.0610,  0.0468],\n",
              "                      [-0.0160, -0.1884, -0.1836,  ..., -0.0756,  0.0584, -0.0757]])),\n",
              "             ('output.bias',\n",
              "              tensor([-0.1358, -0.2080,  0.1261,  0.0100,  0.0216, -0.0478,  0.0181, -0.0272,\n",
              "                       0.0613, -0.1090]))])"
            ]
          },
          "metadata": {
            "tags": []
          },
          "execution_count": 9
        }
      ]
    },
    {
      "cell_type": "markdown",
      "metadata": {
        "id": "1CfgeuVXnDbu",
        "colab_type": "text"
      },
      "source": [
        "The simplest thing to do is simply save the state dict with `torch.save`. For example, we can save it to a file `'checkpoint.pth'`."
      ]
    },
    {
      "cell_type": "code",
      "metadata": {
        "id": "8_BA8R1AnDbu",
        "colab_type": "code",
        "colab": {}
      },
      "source": [
        "torch.save(model.state_dict(), google_drive_path + '/checkpoint.pth')"
      ],
      "execution_count": 0,
      "outputs": []
    },
    {
      "cell_type": "markdown",
      "metadata": {
        "id": "gqFKm7k5nDbw",
        "colab_type": "text"
      },
      "source": [
        "Then we can load the state dict with `torch.load`."
      ]
    },
    {
      "cell_type": "code",
      "metadata": {
        "id": "mAoD_VxGnDbw",
        "colab_type": "code",
        "colab": {
          "base_uri": "https://localhost:8080/",
          "height": 54
        },
        "outputId": "b65f3b20-0c0b-4a16-aced-653f390a470d"
      },
      "source": [
        "state_dict = torch.load(google_drive_path + '/checkpoint.pth')\n",
        "print(state_dict.keys())"
      ],
      "execution_count": 11,
      "outputs": [
        {
          "output_type": "stream",
          "text": [
            "odict_keys(['hidden_layers.0.weight', 'hidden_layers.0.bias', 'hidden_layers.1.weight', 'hidden_layers.1.bias', 'hidden_layers.2.weight', 'hidden_layers.2.bias', 'output.weight', 'output.bias'])\n"
          ],
          "name": "stdout"
        }
      ]
    },
    {
      "cell_type": "markdown",
      "metadata": {
        "id": "rvS-IIW-nDby",
        "colab_type": "text"
      },
      "source": [
        "And to load the state dict in to the network, you do `model.load_state_dict(state_dict)`."
      ]
    },
    {
      "cell_type": "code",
      "metadata": {
        "id": "xiTxEAMFnDby",
        "colab_type": "code",
        "colab": {
          "base_uri": "https://localhost:8080/",
          "height": 34
        },
        "outputId": "00d6d5a3-4481-44d7-b168-7270e5117611"
      },
      "source": [
        "model.load_state_dict(state_dict)"
      ],
      "execution_count": 12,
      "outputs": [
        {
          "output_type": "execute_result",
          "data": {
            "text/plain": [
              "<All keys matched successfully>"
            ]
          },
          "metadata": {
            "tags": []
          },
          "execution_count": 12
        }
      ]
    },
    {
      "cell_type": "markdown",
      "metadata": {
        "id": "RdjTRUs1nDb0",
        "colab_type": "text"
      },
      "source": [
        "Seems pretty straightforward, but as usual it's a bit more complicated. Loading the state dict works only if the model architecture is exactly the same as the checkpoint architecture. If I create a model with a different architecture, this fails."
      ]
    },
    {
      "cell_type": "code",
      "metadata": {
        "id": "OIvnlqzjnDb0",
        "colab_type": "code",
        "colab": {
          "base_uri": "https://localhost:8080/",
          "height": 456
        },
        "outputId": "41ba6ed0-9d78-4ab5-e8fe-f323f3ece7c6"
      },
      "source": [
        "# Try this\n",
        "model = fc_model.Network(784, 10, [400, 200, 100])\n",
        "# This will throw an error because the tensor sizes are wrong!\n",
        "model.load_state_dict(state_dict)"
      ],
      "execution_count": 13,
      "outputs": [
        {
          "output_type": "error",
          "ename": "RuntimeError",
          "evalue": "ignored",
          "traceback": [
            "\u001b[0;31m---------------------------------------------------------------------------\u001b[0m",
            "\u001b[0;31mRuntimeError\u001b[0m                              Traceback (most recent call last)",
            "\u001b[0;32m<ipython-input-13-cc11e1013989>\u001b[0m in \u001b[0;36m<module>\u001b[0;34m()\u001b[0m\n\u001b[1;32m      1\u001b[0m \u001b[0mmodel\u001b[0m \u001b[0;34m=\u001b[0m \u001b[0mfc_model\u001b[0m\u001b[0;34m.\u001b[0m\u001b[0mNetwork\u001b[0m\u001b[0;34m(\u001b[0m\u001b[0;36m784\u001b[0m\u001b[0;34m,\u001b[0m \u001b[0;36m10\u001b[0m\u001b[0;34m,\u001b[0m \u001b[0;34m[\u001b[0m\u001b[0;36m400\u001b[0m\u001b[0;34m,\u001b[0m \u001b[0;36m200\u001b[0m\u001b[0;34m,\u001b[0m \u001b[0;36m100\u001b[0m\u001b[0;34m]\u001b[0m\u001b[0;34m)\u001b[0m\u001b[0;34m\u001b[0m\u001b[0;34m\u001b[0m\u001b[0m\n\u001b[1;32m      2\u001b[0m \u001b[0;31m# This will throw an error because the tensor sizes are wrong!\u001b[0m\u001b[0;34m\u001b[0m\u001b[0;34m\u001b[0m\u001b[0;34m\u001b[0m\u001b[0m\n\u001b[0;32m----> 3\u001b[0;31m \u001b[0mmodel\u001b[0m\u001b[0;34m.\u001b[0m\u001b[0mload_state_dict\u001b[0m\u001b[0;34m(\u001b[0m\u001b[0mstate_dict\u001b[0m\u001b[0;34m)\u001b[0m\u001b[0;34m\u001b[0m\u001b[0;34m\u001b[0m\u001b[0m\n\u001b[0m",
            "\u001b[0;32m/usr/local/lib/python3.6/dist-packages/torch/nn/modules/module.py\u001b[0m in \u001b[0;36mload_state_dict\u001b[0;34m(self, state_dict, strict)\u001b[0m\n\u001b[1;32m    837\u001b[0m         \u001b[0;32mif\u001b[0m \u001b[0mlen\u001b[0m\u001b[0;34m(\u001b[0m\u001b[0merror_msgs\u001b[0m\u001b[0;34m)\u001b[0m \u001b[0;34m>\u001b[0m \u001b[0;36m0\u001b[0m\u001b[0;34m:\u001b[0m\u001b[0;34m\u001b[0m\u001b[0;34m\u001b[0m\u001b[0m\n\u001b[1;32m    838\u001b[0m             raise RuntimeError('Error(s) in loading state_dict for {}:\\n\\t{}'.format(\n\u001b[0;32m--> 839\u001b[0;31m                                self.__class__.__name__, \"\\n\\t\".join(error_msgs)))\n\u001b[0m\u001b[1;32m    840\u001b[0m         \u001b[0;32mreturn\u001b[0m \u001b[0m_IncompatibleKeys\u001b[0m\u001b[0;34m(\u001b[0m\u001b[0mmissing_keys\u001b[0m\u001b[0;34m,\u001b[0m \u001b[0munexpected_keys\u001b[0m\u001b[0;34m)\u001b[0m\u001b[0;34m\u001b[0m\u001b[0;34m\u001b[0m\u001b[0m\n\u001b[1;32m    841\u001b[0m \u001b[0;34m\u001b[0m\u001b[0m\n",
            "\u001b[0;31mRuntimeError\u001b[0m: Error(s) in loading state_dict for Network:\n\tsize mismatch for hidden_layers.0.weight: copying a param with shape torch.Size([512, 784]) from checkpoint, the shape in current model is torch.Size([400, 784]).\n\tsize mismatch for hidden_layers.0.bias: copying a param with shape torch.Size([512]) from checkpoint, the shape in current model is torch.Size([400]).\n\tsize mismatch for hidden_layers.1.weight: copying a param with shape torch.Size([256, 512]) from checkpoint, the shape in current model is torch.Size([200, 400]).\n\tsize mismatch for hidden_layers.1.bias: copying a param with shape torch.Size([256]) from checkpoint, the shape in current model is torch.Size([200]).\n\tsize mismatch for hidden_layers.2.weight: copying a param with shape torch.Size([128, 256]) from checkpoint, the shape in current model is torch.Size([100, 200]).\n\tsize mismatch for hidden_layers.2.bias: copying a param with shape torch.Size([128]) from checkpoint, the shape in current model is torch.Size([100]).\n\tsize mismatch for output.weight: copying a param with shape torch.Size([10, 128]) from checkpoint, the shape in current model is torch.Size([10, 100])."
          ]
        }
      ]
    },
    {
      "cell_type": "markdown",
      "metadata": {
        "id": "kMtTnv23nDb1",
        "colab_type": "text"
      },
      "source": [
        "This means we need to rebuild the model exactly as it was when trained. Information about the model architecture needs to be saved in the checkpoint, along with the state dict. To do this, you build a dictionary with all the information you need to compeletely rebuild the model."
      ]
    },
    {
      "cell_type": "code",
      "metadata": {
        "id": "zyH5B0tqnDb2",
        "colab_type": "code",
        "colab": {}
      },
      "source": [
        "checkpoint = {'input_size': 784,\n",
        "              'output_size': 10,\n",
        "              'hidden_layers': [each.out_features for each in model.hidden_layers],\n",
        "              'state_dict': model.state_dict()}\n",
        "\n",
        "torch.save(checkpoint, google_drive_path + '/checkpoint.pth')"
      ],
      "execution_count": 0,
      "outputs": []
    },
    {
      "cell_type": "markdown",
      "metadata": {
        "id": "KkzyOUOMnDb3",
        "colab_type": "text"
      },
      "source": [
        "Now the checkpoint has all the necessary information to rebuild the trained model. You can easily make that a function if you want. Similarly, we can write a function to load checkpoints. "
      ]
    },
    {
      "cell_type": "code",
      "metadata": {
        "id": "z8gH2mh5nDb4",
        "colab_type": "code",
        "colab": {}
      },
      "source": [
        "def load_checkpoint(filepath):\n",
        "    checkpoint = torch.load(filepath)\n",
        "    model = fc_model.Network(checkpoint['input_size'],\n",
        "                             checkpoint['output_size'],\n",
        "                             checkpoint['hidden_layers'])\n",
        "    model.load_state_dict(checkpoint['state_dict'])\n",
        "    \n",
        "    return model"
      ],
      "execution_count": 0,
      "outputs": []
    },
    {
      "cell_type": "code",
      "metadata": {
        "id": "4wVYi4KwnDb5",
        "colab_type": "code",
        "colab": {
          "base_uri": "https://localhost:8080/",
          "height": 170
        },
        "outputId": "790e9ec4-cdbc-4ee7-adf3-037fd6cc3ae2"
      },
      "source": [
        "model = load_checkpoint(google_drive_path + '/checkpoint.pth')\n",
        "print(model)"
      ],
      "execution_count": 16,
      "outputs": [
        {
          "output_type": "stream",
          "text": [
            "Network(\n",
            "  (hidden_layers): ModuleList(\n",
            "    (0): Linear(in_features=784, out_features=400, bias=True)\n",
            "    (1): Linear(in_features=400, out_features=200, bias=True)\n",
            "    (2): Linear(in_features=200, out_features=100, bias=True)\n",
            "  )\n",
            "  (output): Linear(in_features=100, out_features=10, bias=True)\n",
            "  (dropout): Dropout(p=0.5, inplace=False)\n",
            ")\n"
          ],
          "name": "stdout"
        }
      ]
    }
  ]
}