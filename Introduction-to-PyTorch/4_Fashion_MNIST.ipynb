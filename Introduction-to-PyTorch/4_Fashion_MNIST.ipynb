{
  "nbformat": 4,
  "nbformat_minor": 0,
  "metadata": {
    "kernelspec": {
      "display_name": "Python 3",
      "language": "python",
      "name": "python3"
    },
    "language_info": {
      "codemirror_mode": {
        "name": "ipython",
        "version": 3
      },
      "file_extension": ".py",
      "mimetype": "text/x-python",
      "name": "python",
      "nbconvert_exporter": "python",
      "pygments_lexer": "ipython3",
      "version": "3.6.7"
    },
    "colab": {
      "name": "4_Fashion_MNIST.ipynb",
      "provenance": [],
      "collapsed_sections": [],
      "include_colab_link": true
    }
  },
  "cells": [
    {
      "cell_type": "markdown",
      "metadata": {
        "id": "view-in-github",
        "colab_type": "text"
      },
      "source": [
        "<a href=\"https://colab.research.google.com/github/georgezoto/Deep-Learning-with-PyTorch/blob/master/Introduction-to-PyTorch/4_Fashion_MNIST.ipynb\" target=\"_parent\"><img src=\"https://colab.research.google.com/assets/colab-badge.svg\" alt=\"Open In Colab\"/></a>"
      ]
    },
    {
      "cell_type": "markdown",
      "metadata": {
        "id": "6O9coLzWkhk7",
        "colab_type": "text"
      },
      "source": [
        "## Mount Google Drive for images and datasets ##\n",
        "\n",
        "Using Colab, we need to mount our Google Drive in our virtual machine using an authorization code to access our images and train and test datasets.\n",
        "\n",
        "- https://colab.research.google.com/notebooks/io.ipynb#scrollTo=RWSJpsyKqHjH"
      ]
    },
    {
      "cell_type": "code",
      "metadata": {
        "id": "AUFBHZhhkkTR",
        "colab_type": "code",
        "colab": {}
      },
      "source": [
        "from google.colab import drive\n",
        "drive.mount('/content/gdrive')\n",
        "\n",
        "google_drive_path = '/content/gdrive/My Drive/+Colab Notebooks/Deep-Learning-with-PyTorch/Introduction-to-PyTorch'\n",
        "\n",
        "import sys\n",
        "sys.path.append(google_drive_path)"
      ],
      "execution_count": 0,
      "outputs": []
    },
    {
      "cell_type": "markdown",
      "metadata": {
        "id": "kH7yiDBfkaDz",
        "colab_type": "text"
      },
      "source": [
        "# Classifying Fashion-MNIST\n",
        "\n",
        "Now it's your turn to build and train a neural network. You'll be using the [Fashion-MNIST dataset](https://github.com/zalandoresearch/fashion-mnist), a drop-in replacement for the MNIST dataset. MNIST is actually quite trivial with neural networks where you can easily achieve better than 97% accuracy. Fashion-MNIST is a set of 28x28 greyscale images of clothes. It's more complex than MNIST, so it's a better representation of the actual performance of your network, and a better representation of datasets you'll use in the real world.\n",
        "\n",
        "<img src=\"https://docs.google.com/uc?export=download&id=17Tq56pA4TBq1qxcNebxg7rAQNYU29qpD\" style=\"width:400px;height:300px;\">\n",
        "\n",
        "In this notebook, you'll build your own neural network. For the most part, you could just copy and paste the code from Part 3, but you wouldn't be learning. It's important for you to write the code yourself and get it to work. Feel free to consult the previous notebooks though as you work through this.\n",
        "\n",
        "First off, let's load the dataset through torchvision."
      ]
    },
    {
      "cell_type": "code",
      "metadata": {
        "id": "_uBNcZk1kaD2",
        "colab_type": "code",
        "colab": {
          "base_uri": "https://localhost:8080/",
          "height": 275
        },
        "outputId": "f38a0ec4-f9d2-410f-fd9c-3243dd2724e3"
      },
      "source": [
        "import torch\n",
        "from torchvision import datasets, transforms\n",
        "import helper\n",
        "\n",
        "# Define a transform to normalize the data\n",
        "transform = transforms.Compose([transforms.ToTensor(),\n",
        "                                transforms.Normalize((0.5,), (0.5,))])\n",
        "# Download and load the training data\n",
        "trainset = datasets.FashionMNIST('~/.pytorch/F_MNIST_data/', download=True, train=True, transform=transform)\n",
        "trainloader = torch.utils.data.DataLoader(trainset, batch_size=64, shuffle=True)\n",
        "\n",
        "# Download and load the test data\n",
        "testset = datasets.FashionMNIST('~/.pytorch/F_MNIST_data/', download=True, train=False, transform=transform)\n",
        "testloader = torch.utils.data.DataLoader(testset, batch_size=64, shuffle=True)"
      ],
      "execution_count": 2,
      "outputs": [
        {
          "output_type": "stream",
          "text": [
            "  0%|          | 0/26421880 [00:00<?, ?it/s]"
          ],
          "name": "stderr"
        },
        {
          "output_type": "stream",
          "text": [
            "Downloading http://fashion-mnist.s3-website.eu-central-1.amazonaws.com/train-images-idx3-ubyte.gz to /root/.pytorch/F_MNIST_data/FashionMNIST/raw/train-images-idx3-ubyte.gz\n"
          ],
          "name": "stdout"
        },
        {
          "output_type": "stream",
          "text": [
            "26427392it [00:00, 56945346.70it/s]                              \n"
          ],
          "name": "stderr"
        },
        {
          "output_type": "stream",
          "text": [
            "Extracting /root/.pytorch/F_MNIST_data/FashionMNIST/raw/train-images-idx3-ubyte.gz to /root/.pytorch/F_MNIST_data/FashionMNIST/raw\n"
          ],
          "name": "stdout"
        },
        {
          "output_type": "stream",
          "text": [
            "32768it [00:00, 489522.95it/s]\n",
            "  1%|          | 49152/4422102 [00:00<00:08, 491029.94it/s]"
          ],
          "name": "stderr"
        },
        {
          "output_type": "stream",
          "text": [
            "Downloading http://fashion-mnist.s3-website.eu-central-1.amazonaws.com/train-labels-idx1-ubyte.gz to /root/.pytorch/F_MNIST_data/FashionMNIST/raw/train-labels-idx1-ubyte.gz\n",
            "Extracting /root/.pytorch/F_MNIST_data/FashionMNIST/raw/train-labels-idx1-ubyte.gz to /root/.pytorch/F_MNIST_data/FashionMNIST/raw\n",
            "Downloading http://fashion-mnist.s3-website.eu-central-1.amazonaws.com/t10k-images-idx3-ubyte.gz to /root/.pytorch/F_MNIST_data/FashionMNIST/raw/t10k-images-idx3-ubyte.gz\n"
          ],
          "name": "stdout"
        },
        {
          "output_type": "stream",
          "text": [
            "4423680it [00:00, 20863563.06it/s]                           \n",
            "8192it [00:00, 84333.07it/s]\n"
          ],
          "name": "stderr"
        },
        {
          "output_type": "stream",
          "text": [
            "Extracting /root/.pytorch/F_MNIST_data/FashionMNIST/raw/t10k-images-idx3-ubyte.gz to /root/.pytorch/F_MNIST_data/FashionMNIST/raw\n",
            "Downloading http://fashion-mnist.s3-website.eu-central-1.amazonaws.com/t10k-labels-idx1-ubyte.gz to /root/.pytorch/F_MNIST_data/FashionMNIST/raw/t10k-labels-idx1-ubyte.gz\n",
            "Extracting /root/.pytorch/F_MNIST_data/FashionMNIST/raw/t10k-labels-idx1-ubyte.gz to /root/.pytorch/F_MNIST_data/FashionMNIST/raw\n",
            "Processing...\n",
            "Done!\n"
          ],
          "name": "stdout"
        }
      ]
    },
    {
      "cell_type": "markdown",
      "metadata": {
        "id": "8j8DFVRskaD6",
        "colab_type": "text"
      },
      "source": [
        "Here we can see one of the images."
      ]
    },
    {
      "cell_type": "code",
      "metadata": {
        "id": "pxgLQ5AjkaD7",
        "colab_type": "code",
        "colab": {
          "base_uri": "https://localhost:8080/",
          "height": 248
        },
        "outputId": "e5f0eeb8-e647-44d6-d62d-d536a08b1b93"
      },
      "source": [
        "image, label = next(iter(trainloader))\n",
        "helper.imshow(image[0,:]);"
      ],
      "execution_count": 3,
      "outputs": [
        {
          "output_type": "display_data",
          "data": {
            "image/png": "[encoded data removed]",
            "text/plain": [
              "<Figure size 432x288 with 1 Axes>"
            ]
          },
          "metadata": {
            "tags": []
          }
        }
      ]
    },
    {
      "cell_type": "markdown",
      "metadata": {
        "id": "Z44DWupNkaEA",
        "colab_type": "text"
      },
      "source": [
        "\n",
        "\n",
        "```\n",
        "# This is formatted as code\n",
        "```\n",
        "\n",
        "## Building the network\n",
        "\n",
        "Here you should define your network. As with MNIST, each image is 28x28 which is a total of 784 pixels, and there are 10 classes. You should include at least one hidden layer. We suggest you use ReLU activations for the layers and to return the logits or log-softmax from the forward pass. It's up to you how many layers you add and the size of those layers."
      ]
    },
    {
      "cell_type": "code",
      "metadata": {
        "id": "nc6LGhaWkaEH",
        "colab_type": "code",
        "colab": {}
      },
      "source": [
        "# TODO: Define your network architecture here\n",
        "from torch import nn\n",
        "from torch import optim\n",
        "import math\n",
        "\n",
        "#Model architectures\n",
        "model_784_128_64_10 = nn.Sequential(nn.Linear(784, 128),\n",
        "                      nn.ReLU(),\n",
        "                      nn.Linear(128, 64),\n",
        "                      nn.ReLU(),\n",
        "                      nn.Linear(64, 10),\n",
        "                      nn.LogSoftmax(dim=1))"
      ],
      "execution_count": 0,
      "outputs": []
    },
    {
      "cell_type": "code",
      "metadata": {
        "id": "FetCl3S6osJ4",
        "colab_type": "code",
        "colab": {
          "base_uri": "https://localhost:8080/",
          "height": 153
        },
        "outputId": "bd55ccf5-4558-40d7-8a7c-1f5e53246a01"
      },
      "source": [
        "model = model_784_128_64_10\n",
        "model"
      ],
      "execution_count": 230,
      "outputs": [
        {
          "output_type": "execute_result",
          "data": {
            "text/plain": [
              "Sequential(\n",
              "  (0): Linear(in_features=784, out_features=128, bias=True)\n",
              "  (1): ReLU()\n",
              "  (2): Linear(in_features=128, out_features=64, bias=True)\n",
              "  (3): ReLU()\n",
              "  (4): Linear(in_features=64, out_features=10, bias=True)\n",
              "  (5): LogSoftmax()\n",
              ")"
            ]
          },
          "metadata": {
            "tags": []
          },
          "execution_count": 230
        }
      ]
    },
    {
      "cell_type": "code",
      "metadata": {
        "id": "8LR54L_tokoN",
        "colab_type": "code",
        "colab": {}
      },
      "source": [
        "#Loss function\n",
        "#criterion = nn.CrossEntropyLoss()\n",
        "criterion = nn.NLLLoss()\n",
        "\n",
        "\n",
        "#Optimizer updates the weights using their gradients\n",
        "optimizer = optim.SGD(model.parameters(), lr=0.01)"
      ],
      "execution_count": 0,
      "outputs": []
    },
    {
      "cell_type": "markdown",
      "metadata": {
        "id": "3tGDLfr_kaEI",
        "colab_type": "text"
      },
      "source": [
        "# Train the network\n",
        "\n",
        "Now you should create your network and train it. First you'll want to define [the criterion](http://pytorch.org/docs/master/nn.html#loss-functions) ( something like `nn.CrossEntropyLoss`) and [the optimizer](http://pytorch.org/docs/master/optim.html) (typically `optim.SGD` or `optim.Adam`).\n",
        "\n",
        "Then write the training code. Remember the training pass is a fairly straightforward process:\n",
        "\n",
        "* Make a forward pass through the network to get the logits \n",
        "* Use the logits to calculate the loss\n",
        "* Perform a backward pass through the network with `loss.backward()` to calculate the gradients\n",
        "* Take a step with the optimizer to update the weights\n",
        "\n",
        "By adjusting the hyperparameters (hidden units, learning rate, etc), you should be able to get the training loss below 0.4."
      ]
    },
    {
      "cell_type": "code",
      "metadata": {
        "id": "D9bA257aoKXE",
        "colab_type": "code",
        "colab": {
          "base_uri": "https://localhost:8080/",
          "height": 68
        },
        "outputId": "aa86fc3e-3e69-4037-9611-273bb4637e01"
      },
      "source": [
        "#Train the network\n",
        "epochs = 3\n",
        "for e in range(epochs):\n",
        "    running_loss = 0\n",
        "    for images, labels in trainloader:\n",
        "        # Flatten MNIST images into a 784 long vector\n",
        "        images = images.view(images.shape[0], -1)\n",
        "\n",
        "        # Clear the gradients, since gradients are accumulated!!!\n",
        "        optimizer.zero_grad()\n",
        "\n",
        "        # Forward pass, then backward pass, then update weights\n",
        "        output = model(images)\n",
        "        loss = criterion(output, labels)\n",
        "        loss.backward()\n",
        "        \n",
        "        # Take an update step for the weights\n",
        "        optimizer.step()\n",
        "\n",
        "        running_loss += loss.item()\n",
        "    else:\n",
        "        print(f\"Training loss: {running_loss/len(trainloader)}\")"
      ],
      "execution_count": 232,
      "outputs": [
        {
          "output_type": "stream",
          "text": [
            "Training loss: 1.0397600027988714\n",
            "Training loss: 0.5695767816640674\n",
            "Training loss: 0.4967620900190715\n"
          ],
          "name": "stdout"
        }
      ]
    },
    {
      "cell_type": "code",
      "metadata": {
        "id": "tQcKfRNEkaEP",
        "colab_type": "code",
        "colab": {
          "base_uri": "https://localhost:8080/",
          "height": 233
        },
        "outputId": "b8eb953a-0fc8-4135-e778-923581354ade"
      },
      "source": [
        "%matplotlib inline\n",
        "%config InlineBackend.figure_format = 'retina'\n",
        "\n",
        "import helper\n",
        "\n",
        "# Test out your network!\n",
        "dataiter = iter(testloader)\n",
        "images, labels = dataiter.next()\n",
        "img = images[0]\n",
        "# Convert 2D image to 1D vector\n",
        "img = img.resize_(1, 784)\n",
        "\n",
        "# TODO: Calculate the class probabilities (softmax) for img\n",
        "\n",
        "# Turn off gradients to speed up this part\n",
        "with torch.no_grad():\n",
        "    logps = model(img)\n",
        "\n",
        "# Output of the network are log-probabilities, need to take exponential for probabilities\n",
        "ps = torch.exp(logps)\n",
        "\n",
        "# Plot the image and probabilities\n",
        "helper.view_classify(img.resize_(1, 28, 28), ps, version='Fashion')"
      ],
      "execution_count": 233,
      "outputs": [
        {
          "output_type": "display_data",
          "data": {
            "image/png": "[encoded data removed]",
            "text/plain": [
              "<Figure size 432x648 with 2 Axes>"
            ]
          },
          "metadata": {
            "tags": [],
            "image/png": {
              "width": 424,
              "height": 216
            }
          }
        }
      ]
    },
    {
      "cell_type": "code",
      "metadata": {
        "id": "3b1HDyL-v1km",
        "colab_type": "code",
        "colab": {
          "base_uri": "https://localhost:8080/",
          "height": 153
        },
        "outputId": "8a006f68-2098-48a3-b85a-e19edadd58d9"
      },
      "source": [
        "print(model)"
      ],
      "execution_count": 20,
      "outputs": [
        {
          "output_type": "stream",
          "text": [
            "Sequential(\n",
            "  (0): Linear(in_features=784, out_features=128, bias=True)\n",
            "  (1): ReLU()\n",
            "  (2): Linear(in_features=128, out_features=64, bias=True)\n",
            "  (3): ReLU()\n",
            "  (4): Linear(in_features=64, out_features=10, bias=True)\n",
            "  (5): LogSoftmax()\n",
            ")\n"
          ],
          "name": "stdout"
        }
      ]
    },
    {
      "cell_type": "code",
      "metadata": {
        "id": "DMbMqDy1GK9h",
        "colab_type": "code",
        "colab": {
          "base_uri": "https://localhost:8080/",
          "height": 170
        },
        "outputId": "97c05845-4348-4912-b6cf-b40aa8d6da2d"
      },
      "source": [
        "trainloader.dataset"
      ],
      "execution_count": 216,
      "outputs": [
        {
          "output_type": "execute_result",
          "data": {
            "text/plain": [
              "Dataset FashionMNIST\n",
              "    Number of datapoints: 60000\n",
              "    Root location: /root/.pytorch/F_MNIST_data/\n",
              "    Split: Train\n",
              "    StandardTransform\n",
              "Transform: Compose(\n",
              "               ToTensor()\n",
              "               Normalize(mean=(0.5,), std=(0.5,))\n",
              "           )"
            ]
          },
          "metadata": {
            "tags": []
          },
          "execution_count": 216
        }
      ]
    },
    {
      "cell_type": "code",
      "metadata": {
        "id": "HI4_f0suGLAU",
        "colab_type": "code",
        "colab": {
          "base_uri": "https://localhost:8080/",
          "height": 170
        },
        "outputId": "1b6912bb-8bcb-405b-8e10-03c9045dfb35"
      },
      "source": [
        "testloader.dataset"
      ],
      "execution_count": 217,
      "outputs": [
        {
          "output_type": "execute_result",
          "data": {
            "text/plain": [
              "Dataset FashionMNIST\n",
              "    Number of datapoints: 10000\n",
              "    Root location: /root/.pytorch/F_MNIST_data/\n",
              "    Split: Test\n",
              "    StandardTransform\n",
              "Transform: Compose(\n",
              "               ToTensor()\n",
              "               Normalize(mean=(0.5,), std=(0.5,))\n",
              "           )"
            ]
          },
          "metadata": {
            "tags": []
          },
          "execution_count": 217
        }
      ]
    },
    {
      "cell_type": "markdown",
      "metadata": {
        "id": "sz_ApqAbqheP",
        "colab_type": "text"
      },
      "source": [
        "## Explore different network architectures"
      ]
    },
    {
      "cell_type": "code",
      "metadata": {
        "id": "3MM28a6ksZa4",
        "colab_type": "code",
        "colab": {}
      },
      "source": [
        "# https://discuss.pytorch.org/t/a-more-elegant-way-of-creating-the-nets-in-pytorch/11959/2\n",
        "# https://pytorch.org/docs/stable/nn.html#torch.nn.Module.add_module\n",
        "# https://pytorch.org/tutorials/beginner/blitz/cifar10_tutorial.html\n",
        "# https://github.com/zalandoresearch/fashion-mnist\n",
        "\n",
        "class sequential_model(nn.Sequential):\n",
        "\n",
        "    def __init__(self, input_size = 784, output_size=10, hidden_layers=2, hidden_size=128, hidden_act='ReLU', output_act='LogSoftmax'):\n",
        "\n",
        "        if not math.log(hidden_size, 2).is_integer():\n",
        "          print('⚠️hidden_size needs to be a power of 2 ⚠️')\n",
        "          return None\n",
        "\n",
        "        if hidden_size < math.pow(2, hidden_layers):\n",
        "          print('⚠️hidden_size needs to be a power of 2 and larger then %d ⚠️' % int(math.pow(2, hidden_layers)))\n",
        "          return None\n",
        "      \n",
        "        super().__init__()\n",
        "\n",
        "        if hidden_act == 'ReLU':\n",
        "          act_text, activation = \"ReLU\", nn.ReLU()\n",
        "        else:\n",
        "          act_text, activation = \"Sigmoid\", nn.Sigmoid()\n",
        "\n",
        "        if output_act == 'LogSoftmax':\n",
        "          output_act_text, output_activation = \"LogSoftmax\", nn.LogSoftmax(dim=1)\n",
        "        else:\n",
        "          output_act_text, output_activation = \"None\", None\n",
        "\n",
        "        for layer in range(hidden_layers+1):\n",
        "          if layer == 0:\n",
        "            self.add_module(\"Layer\"+str(layer+1), nn.Linear(input_size, hidden_size))\n",
        "            self.add_module(act_text+str(layer+1), activation)\n",
        "\n",
        "          elif layer == hidden_layers:\n",
        "            self.add_module(\"Layer\"+str(layer+1), nn.Linear(hidden_size*2, output_size))\n",
        "            if output_activation:\n",
        "              self.add_module(\"LogSoftmax\"+str(layer+1), output_activation)\n",
        "\n",
        "          else:\n",
        "            self.add_module(\"Layer\"+str(layer+1), nn.Linear(hidden_size*2, hidden_size))\n",
        "            self.add_module(act_text+str(layer+1), activation)\n",
        "\n",
        "          hidden_size = int(hidden_size/2)\n",
        "\n",
        "    def forward(self, V):\n",
        "        return super().forward(V).squeeze()\n",
        "\n",
        "    def train_model(self, criterion='NLLLoss', optimizer='SGD', learning_rate=0.01, epochs=3, train_data=trainloader):\n",
        "      #Loss function\n",
        "      #criterion = nn.CrossEntropyLoss()\n",
        "      criterion = nn.NLLLoss()\n",
        "\n",
        "      #Optimizer updates the weights using their gradients\n",
        "      optimizer = optim.SGD(self.parameters(), lr=learning_rate)\n",
        "\n",
        "      #Train the network\n",
        "      #epochs = 3\n",
        "      for e in range(epochs):\n",
        "          running_loss = 0\n",
        "          for images, labels in train_data:\n",
        "              # Flatten MNIST images into a 784 long vector\n",
        "              images = images.view(images.shape[0], -1)\n",
        "\n",
        "              # Clear the gradients, since gradients are accumulated!!!\n",
        "              optimizer.zero_grad()\n",
        "\n",
        "              # Forward pass, then backward pass, then update weights\n",
        "              output = self(images)\n",
        "              loss = criterion(output, labels)\n",
        "              loss.backward()\n",
        "              \n",
        "              # Take an update step for the weights\n",
        "              optimizer.step()\n",
        "\n",
        "              running_loss += loss.item()\n",
        "          else:\n",
        "              print(f\"Training loss: {running_loss/len(trainloader)}\")\n",
        "\n",
        "\n",
        "    def test_model(self, test_data=testloader):\n",
        "      dataiter = iter(test_data)\n",
        "      images, labels = dataiter.next()\n",
        "      img = images[0]\n",
        "      # Convert 2D image to 1D vector\n",
        "      img = img.resize_(1, 784)\n",
        "\n",
        "      # Turn off gradients to speed up this part\n",
        "      with torch.no_grad():\n",
        "          logps = self(img)\n",
        "\n",
        "      # Output of the network are log-probabilities, need to take exponential for probabilities\n",
        "      ps = torch.exp(logps)\n",
        "\n",
        "      # Plot the image and probabilities\n",
        "      helper.view_classify(img.resize_(1, 28, 28), ps, version='Fashion')\n",
        "\n",
        "    # https://pytorch.org/tutorials/beginner/blitz/cifar10_tutorial.html\n",
        "    # Network performance on the whole dataset\n",
        "    def test_model_accuracy(self, test_data=testloader):\n",
        "      correct = 0\n",
        "      total = 0\n",
        "\n",
        "      # Turn off gradients to speed up this part\n",
        "      with torch.no_grad():\n",
        "          for images, labels in test_data:\n",
        "              # Convert 2D image to 1D vector\n",
        "              img = images.resize_(1, 784)\n",
        "\n",
        "              #logps = self(img)\n",
        "              #print('logps', logps, logps.sum())\n",
        "              # Output of the network are log-probabilities, need to take exponential for probabilities\n",
        "              #output = torch.exp(logps)\n",
        "\n",
        "              output = self(img)\n",
        "              \n",
        "              _, predicted = torch.max(output.data, 0)\n",
        "              total += labels.size(0)\n",
        "              correct += (predicted == labels).sum().item()\n",
        "\n",
        "      print('Accuracy of the network on the test images is %d / %d or %d%%' % (correct, total, (100 * correct / total)))\n",
        "\n",
        "    # What are the classes that performed well, and the classes that did not perform well\n",
        "    def test_model_accuracy_details(self, test_data=testloader):\n",
        "      classes = ('0 T-shirt/top', '1 Trouser', '2 Pullover', '3 Dress', '4 Coat', '5 Sandal', '6 Shirt', '7 Sneaker', '8 Bag', '9 Ankle boot')\n",
        "\n",
        "      class_correct = list(0. for i in range(10))\n",
        "      class_total = list(0. for i in range(10))\n",
        "\n",
        "      with torch.no_grad():\n",
        "          for images, labels in test_data:\n",
        "              # Convert 2D image to 1D vector\n",
        "              img = images.resize_(1, 784)\n",
        "\n",
        "              output = self(img)\n",
        "\n",
        "              _, predicted = torch.max(output, 0)\n",
        "              c = (predicted == labels).squeeze()\n",
        "              for i in range(4):\n",
        "                  label = labels[i]\n",
        "                  class_correct[label] += c[i].item()\n",
        "                  class_total[label] += 1\n",
        "\n",
        "\n",
        "      for i in range(10):\n",
        "          print('Accuracy of %5s : %2d %%' % (classes[i], 100 * class_correct[i] / class_total[i]))"
      ],
      "execution_count": 0,
      "outputs": []
    },
    {
      "cell_type": "markdown",
      "metadata": {
        "id": "6IUQX9fwC5TS",
        "colab_type": "text"
      },
      "source": [
        "## Model 1\n",
        "## input_size = 784, output_size=10, hidden_layers=3, hidden_size=128 hidden_act='ReLU', output_act='LogSoftmax'\n",
        "\n",
        "## criterion='NLLLoss', optimizer='SGD', learning_rate=0.01, epochs=3"
      ]
    },
    {
      "cell_type": "code",
      "metadata": {
        "id": "xA472znMvM3t",
        "colab_type": "code",
        "colab": {
          "base_uri": "https://localhost:8080/",
          "height": 187
        },
        "outputId": "95e6fa95-6d49-4e7c-faa8-3ebd710ad593"
      },
      "source": [
        "model = sequential_model(input_size = 784, output_size=10, hidden_layers=3, hidden_size=128, hidden_act='ReLU', output_act='LogSoftmax')\n",
        "print(model)"
      ],
      "execution_count": 381,
      "outputs": [
        {
          "output_type": "stream",
          "text": [
            "sequential_model(\n",
            "  (Layer1): Linear(in_features=784, out_features=128, bias=True)\n",
            "  (ReLU1): ReLU()\n",
            "  (Layer2): Linear(in_features=128, out_features=64, bias=True)\n",
            "  (ReLU2): ReLU()\n",
            "  (Layer3): Linear(in_features=64, out_features=32, bias=True)\n",
            "  (ReLU3): ReLU()\n",
            "  (Layer4): Linear(in_features=32, out_features=10, bias=True)\n",
            "  (LogSoftmax4): LogSoftmax()\n",
            ")\n"
          ],
          "name": "stdout"
        }
      ]
    },
    {
      "cell_type": "code",
      "metadata": {
        "id": "L6t9i-KS_Yw4",
        "colab_type": "code",
        "colab": {
          "base_uri": "https://localhost:8080/",
          "height": 68
        },
        "outputId": "b2580041-c1de-4c79-a06c-3f3f8462462d"
      },
      "source": [
        "model.train_model(criterion='NLLLoss', optimizer='SGD', learning_rate=0.01, epochs=3, train_data=trainloader)"
      ],
      "execution_count": 382,
      "outputs": [
        {
          "output_type": "stream",
          "text": [
            "Training loss: 1.4150462208399133\n",
            "Training loss: 0.6796385029168017\n",
            "Training loss: 0.5506251783513311\n"
          ],
          "name": "stdout"
        }
      ]
    },
    {
      "cell_type": "code",
      "metadata": {
        "id": "IVWa9B4oASSZ",
        "colab_type": "code",
        "colab": {
          "base_uri": "https://localhost:8080/",
          "height": 233
        },
        "outputId": "900f26fb-ed95-4ff2-8f9d-ccf6beb6aa12"
      },
      "source": [
        "model.test_model(test_data=testloader)"
      ],
      "execution_count": 383,
      "outputs": [
        {
          "output_type": "display_data",
          "data": {
            "image/png": "[encoded data removed]",
            "text/plain": [
              "<Figure size 432x648 with 2 Axes>"
            ]
          },
          "metadata": {
            "tags": [],
            "image/png": {
              "width": 424,
              "height": 216
            }
          }
        }
      ]
    },
    {
      "cell_type": "code",
      "metadata": {
        "id": "aKsc45OtBToz",
        "colab_type": "code",
        "colab": {
          "base_uri": "https://localhost:8080/",
          "height": 102
        },
        "outputId": "abe86b33-9b25-45ff-8869-51fdf7003efc"
      },
      "source": [
        "model.train_model(criterion='NLLLoss', optimizer='SGD', learning_rate=0.01, epochs=5, train_data=trainloader)"
      ],
      "execution_count": 384,
      "outputs": [
        {
          "output_type": "stream",
          "text": [
            "Training loss: 0.48633149129622527\n",
            "Training loss: 0.4528093824206766\n",
            "Training loss: 0.42999677792159735\n",
            "Training loss: 0.4126311837038252\n",
            "Training loss: 0.3977310266385455\n"
          ],
          "name": "stdout"
        }
      ]
    },
    {
      "cell_type": "code",
      "metadata": {
        "id": "uq80kVZPCQ2w",
        "colab_type": "code",
        "colab": {
          "base_uri": "https://localhost:8080/",
          "height": 233
        },
        "outputId": "5c402663-c5da-4019-cad6-da41bbb21c6b"
      },
      "source": [
        "model.test_model(test_data=testloader)"
      ],
      "execution_count": 385,
      "outputs": [
        {
          "output_type": "display_data",
          "data": {
            "image/png": "[encoded data removed]",
            "text/plain": [
              "<Figure size 432x648 with 2 Axes>"
            ]
          },
          "metadata": {
            "tags": [],
            "image/png": {
              "width": 424,
              "height": 216
            }
          }
        }
      ]
    },
    {
      "cell_type": "code",
      "metadata": {
        "id": "_RZ_zk1oMB1m",
        "colab_type": "code",
        "colab": {
          "base_uri": "https://localhost:8080/",
          "height": 34
        },
        "outputId": "9d424380-114a-434e-9ce7-a1649aa9b214"
      },
      "source": [
        "model.test_model_accuracy(test_data=testloader)"
      ],
      "execution_count": 386,
      "outputs": [
        {
          "output_type": "stream",
          "text": [
            "Accuracy of the network on the test images is 1082 / 10000 or 10%\n"
          ],
          "name": "stdout"
        }
      ]
    },
    {
      "cell_type": "code",
      "metadata": {
        "id": "MUPNonGfUA6X",
        "colab_type": "code",
        "colab": {
          "base_uri": "https://localhost:8080/",
          "height": 187
        },
        "outputId": "5287a870-3339-42af-f6d7-5ccfbe98e140"
      },
      "source": [
        "model.test_model_accuracy_details(test_data=testloader)"
      ],
      "execution_count": 387,
      "outputs": [
        {
          "output_type": "stream",
          "text": [
            "Accuracy of 0 T-shirt/top : 26 %\n",
            "Accuracy of 1 Trouser : 28 %\n",
            "Accuracy of 2 Pullover : 35 %\n",
            "Accuracy of 3 Dress : 23 %\n",
            "Accuracy of 4 Coat : 35 %\n",
            "Accuracy of 5 Sandal : 21 %\n",
            "Accuracy of 6 Shirt : 28 %\n",
            "Accuracy of 7 Sneaker : 22 %\n",
            "Accuracy of 8 Bag : 13 %\n",
            "Accuracy of 9 Ankle boot : 39 %\n"
          ],
          "name": "stdout"
        }
      ]
    },
    {
      "cell_type": "markdown",
      "metadata": {
        "id": "deM5H5JTCfne",
        "colab_type": "text"
      },
      "source": [
        "## Model 2\n",
        "## input_size = 784, output_size=10, hidden_layers=5, hidden_size=64, hidden_act='ReLU', output_act='LogSoftmax'\n",
        "\n",
        "## criterion='NLLLoss', optimizer='SGD', learning_rate=0.01, epochs=3"
      ]
    },
    {
      "cell_type": "code",
      "metadata": {
        "id": "msoaF8WxCdV9",
        "colab_type": "code",
        "colab": {
          "base_uri": "https://localhost:8080/",
          "height": 255
        },
        "outputId": "96ed5dcc-bb60-4254-f8b7-2691812f6c61"
      },
      "source": [
        "model = sequential_model(input_size = 784, output_size=10, hidden_layers=5, hidden_size=64, hidden_act='ReLU', output_act='LogSoftmax')\n",
        "print(model)"
      ],
      "execution_count": 388,
      "outputs": [
        {
          "output_type": "stream",
          "text": [
            "sequential_model(\n",
            "  (Layer1): Linear(in_features=784, out_features=64, bias=True)\n",
            "  (ReLU1): ReLU()\n",
            "  (Layer2): Linear(in_features=64, out_features=32, bias=True)\n",
            "  (ReLU2): ReLU()\n",
            "  (Layer3): Linear(in_features=32, out_features=16, bias=True)\n",
            "  (ReLU3): ReLU()\n",
            "  (Layer4): Linear(in_features=16, out_features=8, bias=True)\n",
            "  (ReLU4): ReLU()\n",
            "  (Layer5): Linear(in_features=8, out_features=4, bias=True)\n",
            "  (ReLU5): ReLU()\n",
            "  (Layer6): Linear(in_features=4, out_features=10, bias=True)\n",
            "  (LogSoftmax6): LogSoftmax()\n",
            ")\n"
          ],
          "name": "stdout"
        }
      ]
    },
    {
      "cell_type": "code",
      "metadata": {
        "id": "G-fsJj2LCqhl",
        "colab_type": "code",
        "colab": {
          "base_uri": "https://localhost:8080/",
          "height": 68
        },
        "outputId": "3829b6d3-f877-4f79-fe25-4d29d09bd3c1"
      },
      "source": [
        "model.train_model(criterion='NLLLoss', optimizer='SGD', learning_rate=0.01, epochs=3, train_data=trainloader)"
      ],
      "execution_count": 389,
      "outputs": [
        {
          "output_type": "stream",
          "text": [
            "Training loss: 2.2929932506862225\n",
            "Training loss: 1.6554673640712747\n",
            "Training loss: 0.8842596766600477\n"
          ],
          "name": "stdout"
        }
      ]
    },
    {
      "cell_type": "code",
      "metadata": {
        "id": "-ujfOlNSCqU8",
        "colab_type": "code",
        "colab": {
          "base_uri": "https://localhost:8080/",
          "height": 233
        },
        "outputId": "af267340-aced-45c4-d85b-18e306792d0e"
      },
      "source": [
        "model.test_model(test_data=testloader)"
      ],
      "execution_count": 390,
      "outputs": [
        {
          "output_type": "display_data",
          "data": {
            "image/png": "[encoded data removed]",
            "text/plain": [
              "<Figure size 432x648 with 2 Axes>"
            ]
          },
          "metadata": {
            "tags": [],
            "image/png": {
              "width": 424,
              "height": 216
            }
          }
        }
      ]
    },
    {
      "cell_type": "code",
      "metadata": {
        "id": "TRcei44OSigm",
        "colab_type": "code",
        "colab": {
          "base_uri": "https://localhost:8080/",
          "height": 34
        },
        "outputId": "2c9d699b-213e-49c4-c0e8-5df655f6c5f6"
      },
      "source": [
        "model.test_model_accuracy(test_data=testloader)"
      ],
      "execution_count": 391,
      "outputs": [
        {
          "output_type": "stream",
          "text": [
            "Accuracy of the network on the test images is 1094 / 10000 or 10%\n"
          ],
          "name": "stdout"
        }
      ]
    },
    {
      "cell_type": "code",
      "metadata": {
        "id": "qedM4gnXV5qq",
        "colab_type": "code",
        "colab": {
          "base_uri": "https://localhost:8080/",
          "height": 187
        },
        "outputId": "6e618800-ce71-4d7d-fb3c-262a05327aeb"
      },
      "source": [
        "model.test_model_accuracy_details(test_data=testloader)"
      ],
      "execution_count": 392,
      "outputs": [
        {
          "output_type": "stream",
          "text": [
            "Accuracy of 0 T-shirt/top : 33 %\n",
            "Accuracy of 1 Trouser : 24 %\n",
            "Accuracy of 2 Pullover : 20 %\n",
            "Accuracy of 3 Dress : 19 %\n",
            "Accuracy of 4 Coat : 36 %\n",
            "Accuracy of 5 Sandal : 28 %\n",
            "Accuracy of 6 Shirt :  0 %\n",
            "Accuracy of 7 Sneaker : 37 %\n",
            "Accuracy of 8 Bag : 20 %\n",
            "Accuracy of 9 Ankle boot : 34 %\n"
          ],
          "name": "stdout"
        }
      ]
    },
    {
      "cell_type": "markdown",
      "metadata": {
        "id": "ucpmbKBbEE3o",
        "colab_type": "text"
      },
      "source": [
        "## Model 3\n",
        "## input_size = 784, output_size=10, hidden_layers=5, hidden_size=64, hidden_act='ReLU', output_act='LogSoftmax'\n",
        "\n",
        "## criterion='NLLLoss', optimizer='SGD', learning_rate=0.1, epochs=5"
      ]
    },
    {
      "cell_type": "code",
      "metadata": {
        "id": "TwDl6qt6ENFk",
        "colab_type": "code",
        "colab": {
          "base_uri": "https://localhost:8080/",
          "height": 255
        },
        "outputId": "a006356f-6bf8-4c77-f446-f98857dc2ce3"
      },
      "source": [
        "model = sequential_model(input_size = 784, output_size=10, hidden_layers=5, hidden_size=64, hidden_act='ReLU', output_act='LogSoftmax')\n",
        "print(model)"
      ],
      "execution_count": 393,
      "outputs": [
        {
          "output_type": "stream",
          "text": [
            "sequential_model(\n",
            "  (Layer1): Linear(in_features=784, out_features=64, bias=True)\n",
            "  (ReLU1): ReLU()\n",
            "  (Layer2): Linear(in_features=64, out_features=32, bias=True)\n",
            "  (ReLU2): ReLU()\n",
            "  (Layer3): Linear(in_features=32, out_features=16, bias=True)\n",
            "  (ReLU3): ReLU()\n",
            "  (Layer4): Linear(in_features=16, out_features=8, bias=True)\n",
            "  (ReLU4): ReLU()\n",
            "  (Layer5): Linear(in_features=8, out_features=4, bias=True)\n",
            "  (ReLU5): ReLU()\n",
            "  (Layer6): Linear(in_features=4, out_features=10, bias=True)\n",
            "  (LogSoftmax6): LogSoftmax()\n",
            ")\n"
          ],
          "name": "stdout"
        }
      ]
    },
    {
      "cell_type": "code",
      "metadata": {
        "id": "YbVuhOlJEM8T",
        "colab_type": "code",
        "colab": {
          "base_uri": "https://localhost:8080/",
          "height": 102
        },
        "outputId": "ff87e0ec-999b-48d6-ef1a-3c16edb71749"
      },
      "source": [
        "model.train_model(criterion='NLLLoss', optimizer='SGD', learning_rate=0.1, epochs=5, train_data=trainloader)"
      ],
      "execution_count": 394,
      "outputs": [
        {
          "output_type": "stream",
          "text": [
            "Training loss: 1.3123882921265642\n",
            "Training loss: 0.6953766518818544\n",
            "Training loss: 0.5612423288574351\n",
            "Training loss: 0.4951849173921258\n",
            "Training loss: 0.43248581873582626\n"
          ],
          "name": "stdout"
        }
      ]
    },
    {
      "cell_type": "code",
      "metadata": {
        "id": "ocy_BcvTEUDz",
        "colab_type": "code",
        "colab": {
          "base_uri": "https://localhost:8080/",
          "height": 233
        },
        "outputId": "dadadb08-5686-4c82-fedb-914c51fd70e8"
      },
      "source": [
        "model.test_model(test_data=testloader)"
      ],
      "execution_count": 395,
      "outputs": [
        {
          "output_type": "display_data",
          "data": {
            "image/png": "[encoded data removed]",
            "text/plain": [
              "<Figure size 432x648 with 2 Axes>"
            ]
          },
          "metadata": {
            "tags": [],
            "image/png": {
              "width": 424,
              "height": 216
            }
          }
        }
      ]
    },
    {
      "cell_type": "code",
      "metadata": {
        "id": "IRim_n75SkGM",
        "colab_type": "code",
        "colab": {
          "base_uri": "https://localhost:8080/",
          "height": 34
        },
        "outputId": "a5afe187-6ac2-472d-d719-c01b23c00fad"
      },
      "source": [
        "model.test_model_accuracy(test_data=testloader)"
      ],
      "execution_count": 396,
      "outputs": [
        {
          "output_type": "stream",
          "text": [
            "Accuracy of the network on the test images is 1140 / 10000 or 11%\n"
          ],
          "name": "stdout"
        }
      ]
    },
    {
      "cell_type": "code",
      "metadata": {
        "id": "Py-fFYxGV6_F",
        "colab_type": "code",
        "colab": {
          "base_uri": "https://localhost:8080/",
          "height": 187
        },
        "outputId": "ba1f43c7-4b26-43b5-81fb-0ed6cfc05ca8"
      },
      "source": [
        "model.test_model_accuracy_details(test_data=testloader)"
      ],
      "execution_count": 397,
      "outputs": [
        {
          "output_type": "stream",
          "text": [
            "Accuracy of 0 T-shirt/top : 23 %\n",
            "Accuracy of 1 Trouser : 29 %\n",
            "Accuracy of 2 Pullover : 18 %\n",
            "Accuracy of 3 Dress : 29 %\n",
            "Accuracy of 4 Coat : 19 %\n",
            "Accuracy of 5 Sandal : 35 %\n",
            "Accuracy of 6 Shirt : 17 %\n",
            "Accuracy of 7 Sneaker : 28 %\n",
            "Accuracy of 8 Bag : 32 %\n",
            "Accuracy of 9 Ankle boot : 32 %\n"
          ],
          "name": "stdout"
        }
      ]
    },
    {
      "cell_type": "markdown",
      "metadata": {
        "id": "9kv9KgdqDngW",
        "colab_type": "text"
      },
      "source": [
        "## Model 4\n",
        "## input_size = 784, output_size=10, hidden_layers=3, hidden_size=256, hidden_act='ReLU', output_act='LogSoftmax'\n",
        "\n",
        "## criterion='NLLLoss', optimizer='SGD', learning_rate=0.01, epochs=3"
      ]
    },
    {
      "cell_type": "code",
      "metadata": {
        "id": "gBbP3QT5CqJf",
        "colab_type": "code",
        "colab": {
          "base_uri": "https://localhost:8080/",
          "height": 187
        },
        "outputId": "6c43a9a1-0075-461d-d4d2-56cde40b7f86"
      },
      "source": [
        "model = sequential_model(input_size = 784, output_size=10, hidden_layers=3, hidden_size=256, hidden_act='ReLU', output_act='LogSoftmax')\n",
        "print(model)"
      ],
      "execution_count": 398,
      "outputs": [
        {
          "output_type": "stream",
          "text": [
            "sequential_model(\n",
            "  (Layer1): Linear(in_features=784, out_features=256, bias=True)\n",
            "  (ReLU1): ReLU()\n",
            "  (Layer2): Linear(in_features=256, out_features=128, bias=True)\n",
            "  (ReLU2): ReLU()\n",
            "  (Layer3): Linear(in_features=128, out_features=64, bias=True)\n",
            "  (ReLU3): ReLU()\n",
            "  (Layer4): Linear(in_features=64, out_features=10, bias=True)\n",
            "  (LogSoftmax4): LogSoftmax()\n",
            ")\n"
          ],
          "name": "stdout"
        }
      ]
    },
    {
      "cell_type": "code",
      "metadata": {
        "id": "oe6W5-3HDwHT",
        "colab_type": "code",
        "colab": {
          "base_uri": "https://localhost:8080/",
          "height": 68
        },
        "outputId": "a747d6dc-842b-4a83-fe29-b27975eb754a"
      },
      "source": [
        "model.train_model(criterion='NLLLoss', optimizer='SGD', learning_rate=0.01, epochs=3, train_data=trainloader)"
      ],
      "execution_count": 399,
      "outputs": [
        {
          "output_type": "stream",
          "text": [
            "Training loss: 1.2725210364566428\n",
            "Training loss: 0.632513445132831\n",
            "Training loss: 0.5378980459943254\n"
          ],
          "name": "stdout"
        }
      ]
    },
    {
      "cell_type": "code",
      "metadata": {
        "id": "7T_0bPV_Dzk2",
        "colab_type": "code",
        "colab": {
          "base_uri": "https://localhost:8080/",
          "height": 233
        },
        "outputId": "3144208f-c4df-4284-8ec1-95df0582249e"
      },
      "source": [
        "model.test_model(test_data=testloader)"
      ],
      "execution_count": 400,
      "outputs": [
        {
          "output_type": "display_data",
          "data": {
            "image/png": "[encoded data removed]",
            "text/plain": [
              "<Figure size 432x648 with 2 Axes>"
            ]
          },
          "metadata": {
            "tags": [],
            "image/png": {
              "width": 424,
              "height": 216
            }
          }
        }
      ]
    },
    {
      "cell_type": "code",
      "metadata": {
        "id": "n5wAglhDGbS3",
        "colab_type": "code",
        "colab": {
          "base_uri": "https://localhost:8080/",
          "height": 34
        },
        "outputId": "bf62f976-455e-42c5-9883-b945801e04a4"
      },
      "source": [
        "model.test_model_accuracy(test_data=testloader)"
      ],
      "execution_count": 401,
      "outputs": [
        {
          "output_type": "stream",
          "text": [
            "Accuracy of the network on the test images is 1152 / 10000 or 11%\n"
          ],
          "name": "stdout"
        }
      ]
    },
    {
      "cell_type": "code",
      "metadata": {
        "id": "Lp57QigMV78Y",
        "colab_type": "code",
        "colab": {
          "base_uri": "https://localhost:8080/",
          "height": 187
        },
        "outputId": "199ea8be-9709-4f16-8f5f-cda7551e1b4d"
      },
      "source": [
        "model.test_model_accuracy_details(test_data=testloader)"
      ],
      "execution_count": 402,
      "outputs": [
        {
          "output_type": "stream",
          "text": [
            "Accuracy of 0 T-shirt/top : 20 %\n",
            "Accuracy of 1 Trouser : 34 %\n",
            "Accuracy of 2 Pullover : 19 %\n",
            "Accuracy of 3 Dress : 21 %\n",
            "Accuracy of 4 Coat : 30 %\n",
            "Accuracy of 5 Sandal : 41 %\n",
            "Accuracy of 6 Shirt : 17 %\n",
            "Accuracy of 7 Sneaker : 28 %\n",
            "Accuracy of 8 Bag : 27 %\n",
            "Accuracy of 9 Ankle boot : 37 %\n"
          ],
          "name": "stdout"
        }
      ]
    }
  ]
}