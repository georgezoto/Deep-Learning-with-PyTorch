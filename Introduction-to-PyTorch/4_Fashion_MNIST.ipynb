{
  "nbformat": 4,
  "nbformat_minor": 0,
  "metadata": {
    "kernelspec": {
      "display_name": "Python 3",
      "language": "python",
      "name": "python3"
    },
    "language_info": {
      "codemirror_mode": {
        "name": "ipython",
        "version": 3
      },
      "file_extension": ".py",
      "mimetype": "text/x-python",
      "name": "python",
      "nbconvert_exporter": "python",
      "pygments_lexer": "ipython3",
      "version": "3.6.7"
    },
    "colab": {
      "name": "4_Fashion_MNIST.ipynb",
      "provenance": [],
      "collapsed_sections": [],
      "include_colab_link": true
    }
  },
  "cells": [
    {
      "cell_type": "markdown",
      "metadata": {
        "id": "view-in-github",
        "colab_type": "text"
      },
      "source": [
        "<a href=\"https://colab.research.google.com/github/georgezoto/Deep-Learning-with-PyTorch/blob/master/Introduction-to-PyTorch/4_Fashion_MNIST.ipynb\" target=\"_parent\"><img src=\"https://colab.research.google.com/assets/colab-badge.svg\" alt=\"Open In Colab\"/></a>"
      ]
    },
    {
      "cell_type": "markdown",
      "metadata": {
        "id": "6O9coLzWkhk7",
        "colab_type": "text"
      },
      "source": [
        "## Mount Google Drive for images and datasets ##\n",
        "\n",
        "Using Colab, we need to mount our Google Drive in our virtual machine using an authorization code to access our images and train and test datasets.\n",
        "\n",
        "- https://colab.research.google.com/notebooks/io.ipynb#scrollTo=RWSJpsyKqHjH"
      ]
    },
    {
      "cell_type": "code",
      "metadata": {
        "id": "AUFBHZhhkkTR",
        "colab_type": "code",
        "colab": {}
      },
      "source": [
        "from google.colab import drive\n",
        "drive.mount('/content/gdrive')\n",
        "\n",
        "google_drive_path = '/content/gdrive/My Drive/+Colab Notebooks/Deep-Learning-with-PyTorch/Introduction-to-PyTorch'\n",
        "\n",
        "import sys\n",
        "sys.path.append(google_drive_path)"
      ],
      "execution_count": 0,
      "outputs": []
    },
    {
      "cell_type": "markdown",
      "metadata": {
        "id": "kH7yiDBfkaDz",
        "colab_type": "text"
      },
      "source": [
        "# Classifying Fashion-MNIST\n",
        "\n",
        "Now it's your turn to build and train a neural network. You'll be using the [Fashion-MNIST dataset](https://github.com/zalandoresearch/fashion-mnist), a drop-in replacement for the MNIST dataset. MNIST is actually quite trivial with neural networks where you can easily achieve better than 97% accuracy. Fashion-MNIST is a set of 28x28 greyscale images of clothes. It's more complex than MNIST, so it's a better representation of the actual performance of your network, and a better representation of datasets you'll use in the real world.\n",
        "\n",
        "<img src=\"https://docs.google.com/uc?export=download&id=17Tq56pA4TBq1qxcNebxg7rAQNYU29qpD\" style=\"width:400px;height:300px;\">\n",
        "\n",
        "In this notebook, you'll build your own neural network. For the most part, you could just copy and paste the code from Part 3, but you wouldn't be learning. It's important for you to write the code yourself and get it to work. Feel free to consult the previous notebooks though as you work through this.\n",
        "\n",
        "First off, let's load the dataset through torchvision."
      ]
    },
    {
      "cell_type": "code",
      "metadata": {
        "id": "_uBNcZk1kaD2",
        "colab_type": "code",
        "colab": {
          "base_uri": "https://localhost:8080/",
          "height": 275
        },
        "outputId": "f38a0ec4-f9d2-410f-fd9c-3243dd2724e3"
      },
      "source": [
        "import torch\n",
        "from torchvision import datasets, transforms\n",
        "import helper\n",
        "\n",
        "# Define a transform to normalize the data\n",
        "transform = transforms.Compose([transforms.ToTensor(),\n",
        "                                transforms.Normalize((0.5,), (0.5,))])\n",
        "# Download and load the training data\n",
        "trainset = datasets.FashionMNIST('~/.pytorch/F_MNIST_data/', download=True, train=True, transform=transform)\n",
        "trainloader = torch.utils.data.DataLoader(trainset, batch_size=64, shuffle=True)\n",
        "\n",
        "# Download and load the test data\n",
        "testset = datasets.FashionMNIST('~/.pytorch/F_MNIST_data/', download=True, train=False, transform=transform)\n",
        "testloader = torch.utils.data.DataLoader(testset, batch_size=64, shuffle=True)"
      ],
      "execution_count": 2,
      "outputs": [
        {
          "output_type": "stream",
          "text": [
            "  0%|          | 0/26421880 [00:00<?, ?it/s]"
          ],
          "name": "stderr"
        },
        {
          "output_type": "stream",
          "text": [
            "Downloading http://fashion-mnist.s3-website.eu-central-1.amazonaws.com/train-images-idx3-ubyte.gz to /root/.pytorch/F_MNIST_data/FashionMNIST/raw/train-images-idx3-ubyte.gz\n"
          ],
          "name": "stdout"
        },
        {
          "output_type": "stream",
          "text": [
            "26427392it [00:00, 56945346.70it/s]                              \n"
          ],
          "name": "stderr"
        },
        {
          "output_type": "stream",
          "text": [
            "Extracting /root/.pytorch/F_MNIST_data/FashionMNIST/raw/train-images-idx3-ubyte.gz to /root/.pytorch/F_MNIST_data/FashionMNIST/raw\n"
          ],
          "name": "stdout"
        },
        {
          "output_type": "stream",
          "text": [
            "32768it [00:00, 489522.95it/s]\n",
            "  1%|          | 49152/4422102 [00:00<00:08, 491029.94it/s]"
          ],
          "name": "stderr"
        },
        {
          "output_type": "stream",
          "text": [
            "Downloading http://fashion-mnist.s3-website.eu-central-1.amazonaws.com/train-labels-idx1-ubyte.gz to /root/.pytorch/F_MNIST_data/FashionMNIST/raw/train-labels-idx1-ubyte.gz\n",
            "Extracting /root/.pytorch/F_MNIST_data/FashionMNIST/raw/train-labels-idx1-ubyte.gz to /root/.pytorch/F_MNIST_data/FashionMNIST/raw\n",
            "Downloading http://fashion-mnist.s3-website.eu-central-1.amazonaws.com/t10k-images-idx3-ubyte.gz to /root/.pytorch/F_MNIST_data/FashionMNIST/raw/t10k-images-idx3-ubyte.gz\n"
          ],
          "name": "stdout"
        },
        {
          "output_type": "stream",
          "text": [
            "4423680it [00:00, 20863563.06it/s]                           \n",
            "8192it [00:00, 84333.07it/s]\n"
          ],
          "name": "stderr"
        },
        {
          "output_type": "stream",
          "text": [
            "Extracting /root/.pytorch/F_MNIST_data/FashionMNIST/raw/t10k-images-idx3-ubyte.gz to /root/.pytorch/F_MNIST_data/FashionMNIST/raw\n",
            "Downloading http://fashion-mnist.s3-website.eu-central-1.amazonaws.com/t10k-labels-idx1-ubyte.gz to /root/.pytorch/F_MNIST_data/FashionMNIST/raw/t10k-labels-idx1-ubyte.gz\n",
            "Extracting /root/.pytorch/F_MNIST_data/FashionMNIST/raw/t10k-labels-idx1-ubyte.gz to /root/.pytorch/F_MNIST_data/FashionMNIST/raw\n",
            "Processing...\n",
            "Done!\n"
          ],
          "name": "stdout"
        }
      ]
    },
    {
      "cell_type": "markdown",
      "metadata": {
        "id": "8j8DFVRskaD6",
        "colab_type": "text"
      },
      "source": [
        "Here we can see one of the images."
      ]
    },
    {
      "cell_type": "code",
      "metadata": {
        "id": "pxgLQ5AjkaD7",
        "colab_type": "code",
        "colab": {
          "base_uri": "https://localhost:8080/",
          "height": 248
        },
        "outputId": "e5f0eeb8-e647-44d6-d62d-d536a08b1b93"
      },
      "source": [
        "image, label = next(iter(trainloader))\n",
        "helper.imshow(image[0,:]);"
      ],
      "execution_count": 3,
      "outputs": [
        {
          "output_type": "display_data",
          "data": {
            "image/png": "[encoded data removed]",
            "text/plain": [
              "<Figure size 432x288 with 1 Axes>"
            ]
          },
          "metadata": {
            "tags": []
          }
        }
      ]
    },
    {
      "cell_type": "markdown",
      "metadata": {
        "id": "Z44DWupNkaEA",
        "colab_type": "text"
      },
      "source": [
        "\n",
        "\n",
        "```\n",
        "# This is formatted as code\n",
        "```\n",
        "\n",
        "## Building the network\n",
        "\n",
        "Here you should define your network. As with MNIST, each image is 28x28 which is a total of 784 pixels, and there are 10 classes. You should include at least one hidden layer. We suggest you use ReLU activations for the layers and to return the logits or log-softmax from the forward pass. It's up to you how many layers you add and the size of those layers."
      ]
    },
    {
      "cell_type": "code",
      "metadata": {
        "id": "nc6LGhaWkaEH",
        "colab_type": "code",
        "colab": {}
      },
      "source": [
        "# TODO: Define your network architecture here\n",
        "from torch import nn\n",
        "from torch import optim\n",
        "import math\n",
        "\n",
        "#Model architectures\n",
        "model_784_128_64_10 = nn.Sequential(nn.Linear(784, 128),\n",
        "                      nn.ReLU(),\n",
        "                      nn.Linear(128, 64),\n",
        "                      nn.ReLU(),\n",
        "                      nn.Linear(64, 10),\n",
        "                      nn.LogSoftmax(dim=1))"
      ],
      "execution_count": 0,
      "outputs": []
    },
    {
      "cell_type": "code",
      "metadata": {
        "id": "FetCl3S6osJ4",
        "colab_type": "code",
        "colab": {
          "base_uri": "https://localhost:8080/",
          "height": 153
        },
        "outputId": "1d8749c3-7400-4900-e72c-c161f2f4f77b"
      },
      "source": [
        "model = model_784_128_64_10\n",
        "model"
      ],
      "execution_count": 95,
      "outputs": [
        {
          "output_type": "execute_result",
          "data": {
            "text/plain": [
              "Sequential(\n",
              "  (0): Linear(in_features=784, out_features=128, bias=True)\n",
              "  (1): ReLU()\n",
              "  (2): Linear(in_features=128, out_features=64, bias=True)\n",
              "  (3): ReLU()\n",
              "  (4): Linear(in_features=64, out_features=10, bias=True)\n",
              "  (5): LogSoftmax()\n",
              ")"
            ]
          },
          "metadata": {
            "tags": []
          },
          "execution_count": 95
        }
      ]
    },
    {
      "cell_type": "code",
      "metadata": {
        "id": "8LR54L_tokoN",
        "colab_type": "code",
        "colab": {}
      },
      "source": [
        "#Loss function\n",
        "#criterion = nn.CrossEntropyLoss()\n",
        "criterion = nn.NLLLoss()\n",
        "\n",
        "\n",
        "#Optimizer updates the weights using their gradients\n",
        "optimizer = optim.SGD(model.parameters(), lr=0.01)"
      ],
      "execution_count": 0,
      "outputs": []
    },
    {
      "cell_type": "markdown",
      "metadata": {
        "id": "3tGDLfr_kaEI",
        "colab_type": "text"
      },
      "source": [
        "# Train the network\n",
        "\n",
        "Now you should create your network and train it. First you'll want to define [the criterion](http://pytorch.org/docs/master/nn.html#loss-functions) ( something like `nn.CrossEntropyLoss`) and [the optimizer](http://pytorch.org/docs/master/optim.html) (typically `optim.SGD` or `optim.Adam`).\n",
        "\n",
        "Then write the training code. Remember the training pass is a fairly straightforward process:\n",
        "\n",
        "* Make a forward pass through the network to get the logits \n",
        "* Use the logits to calculate the loss\n",
        "* Perform a backward pass through the network with `loss.backward()` to calculate the gradients\n",
        "* Take a step with the optimizer to update the weights\n",
        "\n",
        "By adjusting the hyperparameters (hidden units, learning rate, etc), you should be able to get the training loss below 0.4."
      ]
    },
    {
      "cell_type": "code",
      "metadata": {
        "id": "D9bA257aoKXE",
        "colab_type": "code",
        "colab": {
          "base_uri": "https://localhost:8080/",
          "height": 68
        },
        "outputId": "470ad0b0-7e38-40de-a32d-867dbc82eb5c"
      },
      "source": [
        "#Train the network\n",
        "epochs = 3\n",
        "for e in range(epochs):\n",
        "    running_loss = 0\n",
        "    for images, labels in trainloader:\n",
        "        # Flatten MNIST images into a 784 long vector\n",
        "        images = images.view(images.shape[0], -1)\n",
        "\n",
        "        # Clear the gradients, since gradients are accumulated!!!\n",
        "        optimizer.zero_grad()\n",
        "\n",
        "        # Forward pass, then backward pass, then update weights\n",
        "        output = model(images)\n",
        "        loss = criterion(output, labels)\n",
        "        loss.backward()\n",
        "        \n",
        "        # Take an update step for the weights\n",
        "        optimizer.step()\n",
        "\n",
        "        running_loss += loss.item()\n",
        "    else:\n",
        "        print(f\"Training loss: {running_loss/len(trainloader)}\")"
      ],
      "execution_count": 13,
      "outputs": [
        {
          "output_type": "stream",
          "text": [
            "Training loss: 1.0231086225080084\n",
            "Training loss: 0.5616511234850772\n",
            "Training loss: 0.4956833825849775\n"
          ],
          "name": "stdout"
        }
      ]
    },
    {
      "cell_type": "code",
      "metadata": {
        "id": "tQcKfRNEkaEP",
        "colab_type": "code",
        "colab": {
          "base_uri": "https://localhost:8080/",
          "height": 233
        },
        "outputId": "07c61eb4-49a4-4517-db1c-7db552a27c14"
      },
      "source": [
        "%matplotlib inline\n",
        "%config InlineBackend.figure_format = 'retina'\n",
        "\n",
        "import helper\n",
        "\n",
        "# Test out your network!\n",
        "dataiter = iter(testloader)\n",
        "images, labels = dataiter.next()\n",
        "img = images[0]\n",
        "# Convert 2D image to 1D vector\n",
        "img = img.resize_(1, 784)\n",
        "\n",
        "# TODO: Calculate the class probabilities (softmax) for img\n",
        "\n",
        "# Turn off gradients to speed up this part\n",
        "with torch.no_grad():\n",
        "    logps = model(img)\n",
        "\n",
        "# Output of the network are log-probabilities, need to take exponential for probabilities\n",
        "ps = torch.exp(logps)\n",
        "\n",
        "# Plot the image and probabilities\n",
        "helper.view_classify(img.resize_(1, 28, 28), ps, version='Fashion')"
      ],
      "execution_count": 14,
      "outputs": [
        {
          "output_type": "display_data",
          "data": {
            "image/png": "[encoded data removed]",
            "text/plain": [
              "<Figure size 432x648 with 2 Axes>"
            ]
          },
          "metadata": {
            "tags": [],
            "image/png": {
              "width": 424,
              "height": 216
            }
          }
        }
      ]
    },
    {
      "cell_type": "code",
      "metadata": {
        "id": "3b1HDyL-v1km",
        "colab_type": "code",
        "colab": {
          "base_uri": "https://localhost:8080/",
          "height": 153
        },
        "outputId": "8a006f68-2098-48a3-b85a-e19edadd58d9"
      },
      "source": [
        "print(model)"
      ],
      "execution_count": 20,
      "outputs": [
        {
          "output_type": "stream",
          "text": [
            "Sequential(\n",
            "  (0): Linear(in_features=784, out_features=128, bias=True)\n",
            "  (1): ReLU()\n",
            "  (2): Linear(in_features=128, out_features=64, bias=True)\n",
            "  (3): ReLU()\n",
            "  (4): Linear(in_features=64, out_features=10, bias=True)\n",
            "  (5): LogSoftmax()\n",
            ")\n"
          ],
          "name": "stdout"
        }
      ]
    },
    {
      "cell_type": "markdown",
      "metadata": {
        "id": "sz_ApqAbqheP",
        "colab_type": "text"
      },
      "source": [
        "## Explore different network architectures"
      ]
    },
    {
      "cell_type": "code",
      "metadata": {
        "id": "3MM28a6ksZa4",
        "colab_type": "code",
        "colab": {}
      },
      "source": [
        "#https://discuss.pytorch.org/t/a-more-elegant-way-of-creating-the-nets-in-pytorch/11959/2\n",
        "#https://pytorch.org/docs/stable/nn.html#torch.nn.Module.add_module\n",
        "\n",
        "class sequential_model(nn.Sequential):\n",
        "\n",
        "    def __init__(self, input_size = 784, output_size=10, hidden_layers=2, hidden_size=128, hidden_act='ReLU', output_act='LogSoftmax'):\n",
        "\n",
        "        if not math.log(hidden_size, 2).is_integer():\n",
        "          print('⚠️hidden_size needs to be a power of 2 ⚠️')\n",
        "          return None\n",
        "\n",
        "        if hidden_size < math.pow(2, hidden_layers):\n",
        "          print('⚠️hidden_size needs to be a power of 2 and larger then %d ⚠️' % int(math.pow(2, hidden_layers)))\n",
        "          return None\n",
        "      \n",
        "        super().__init__()\n",
        "\n",
        "        if hidden_act == 'ReLU':\n",
        "          act_text, activation = \"ReLU\", nn.ReLU()\n",
        "        else:\n",
        "          act_text, activation = \"Sigmoid\", nn.Sigmoid()\n",
        "\n",
        "        if output_act == 'LogSoftmax':\n",
        "          output_act_text, output_activation = \"LogSoftmax\", nn.LogSoftmax(dim=1)\n",
        "\n",
        "        for layer in range(hidden_layers+1):\n",
        "          if layer == 0:\n",
        "            self.add_module(\"Layer\"+str(layer+1), nn.Linear(input_size, hidden_size))\n",
        "            self.add_module(act_text+str(layer+1), activation)\n",
        "\n",
        "          elif layer == hidden_layers:\n",
        "            self.add_module(\"Layer\"+str(layer+1), nn.Linear(hidden_size*2, output_size))\n",
        "            self.add_module(\"LogSoftmax\"+str(layer+1), output_activation)\n",
        "\n",
        "          else:\n",
        "            self.add_module(\"Layer\"+str(layer+1), nn.Linear(hidden_size*2, hidden_size))\n",
        "            self.add_module(act_text+str(layer+1), activation)\n",
        "\n",
        "          hidden_size = int(hidden_size/2)\n",
        "\n",
        "    def forward(self, V):\n",
        "        return super().forward(V).squeeze()\n",
        "\n",
        "    def train_model(self, criterion='NLLLoss', optimizer='SGD', learning_rate=0.01, epochs=3, train_data=trainloader):\n",
        "      #Loss function\n",
        "      #criterion = nn.CrossEntropyLoss()\n",
        "      criterion = nn.NLLLoss()\n",
        "\n",
        "      #Optimizer updates the weights using their gradients\n",
        "      optimizer = optim.SGD(self.parameters(), lr=learning_rate)\n",
        "\n",
        "      #Train the network\n",
        "      #epochs = 3\n",
        "      for e in range(epochs):\n",
        "          running_loss = 0\n",
        "          for images, labels in train_data:\n",
        "              # Flatten MNIST images into a 784 long vector\n",
        "              images = images.view(images.shape[0], -1)\n",
        "\n",
        "              # Clear the gradients, since gradients are accumulated!!!\n",
        "              optimizer.zero_grad()\n",
        "\n",
        "              # Forward pass, then backward pass, then update weights\n",
        "              output = self(images)\n",
        "              loss = criterion(output, labels)\n",
        "              loss.backward()\n",
        "              \n",
        "              # Take an update step for the weights\n",
        "              optimizer.step()\n",
        "\n",
        "              running_loss += loss.item()\n",
        "          else:\n",
        "              print(f\"Training loss: {running_loss/len(trainloader)}\")\n",
        "\n",
        "\n",
        "    def test_model(self, test_data=testloader):\n",
        "      # Test out your network!\n",
        "      dataiter = iter(test_data)\n",
        "      images, labels = dataiter.next()\n",
        "      img = images[0]\n",
        "      # Convert 2D image to 1D vector\n",
        "      img = img.resize_(1, 784)\n",
        "\n",
        "      # Turn off gradients to speed up this part\n",
        "      with torch.no_grad():\n",
        "          logps = self(img)\n",
        "\n",
        "      # Output of the network are log-probabilities, need to take exponential for probabilities\n",
        "      ps = torch.exp(logps)\n",
        "\n",
        "      # Plot the image and probabilities\n",
        "      helper.view_classify(img.resize_(1, 28, 28), ps, version='Fashion')              "
      ],
      "execution_count": 0,
      "outputs": []
    },
    {
      "cell_type": "markdown",
      "metadata": {
        "id": "6IUQX9fwC5TS",
        "colab_type": "text"
      },
      "source": [
        "## Model 1\n",
        "## input_size = 784, output_size=10, hidden_layers=3, hidden_size=128 hidden_act='ReLU', output_act='LogSoftmax'\n",
        "\n",
        "## criterion='NLLLoss', optimizer='SGD', learning_rate=0.01, epochs=3"
      ]
    },
    {
      "cell_type": "code",
      "metadata": {
        "id": "xA472znMvM3t",
        "colab_type": "code",
        "colab": {
          "base_uri": "https://localhost:8080/",
          "height": 187
        },
        "outputId": "8c17f202-f9f2-4b43-b4df-38593551631c"
      },
      "source": [
        "model = sequential_model(input_size = 784, output_size=10, hidden_layers=3, hidden_size=128, hidden_act='ReLU', output_act='LogSoftmax')\n",
        "print(model)"
      ],
      "execution_count": 193,
      "outputs": [
        {
          "output_type": "stream",
          "text": [
            "sequential_model(\n",
            "  (Layer1): Linear(in_features=784, out_features=128, bias=True)\n",
            "  (ReLU1): ReLU()\n",
            "  (Layer2): Linear(in_features=128, out_features=64, bias=True)\n",
            "  (ReLU2): ReLU()\n",
            "  (Layer3): Linear(in_features=64, out_features=32, bias=True)\n",
            "  (ReLU3): ReLU()\n",
            "  (Layer4): Linear(in_features=32, out_features=10, bias=True)\n",
            "  (LogSoftmax4): LogSoftmax()\n",
            ")\n"
          ],
          "name": "stdout"
        }
      ]
    },
    {
      "cell_type": "code",
      "metadata": {
        "id": "L6t9i-KS_Yw4",
        "colab_type": "code",
        "colab": {
          "base_uri": "https://localhost:8080/",
          "height": 68
        },
        "outputId": "4bc09ab9-c418-4cdb-cdfa-bffbddd0b7d9"
      },
      "source": [
        "model.train_model(criterion='NLLLoss', optimizer='SGD', learning_rate=0.01, epochs=3, train_data=trainloader)"
      ],
      "execution_count": 194,
      "outputs": [
        {
          "output_type": "stream",
          "text": [
            "Training loss: 1.4302269481519647\n",
            "Training loss: 0.6337863558899365\n",
            "Training loss: 0.5343499741256873\n"
          ],
          "name": "stdout"
        }
      ]
    },
    {
      "cell_type": "code",
      "metadata": {
        "id": "IVWa9B4oASSZ",
        "colab_type": "code",
        "colab": {
          "base_uri": "https://localhost:8080/",
          "height": 233
        },
        "outputId": "95b47999-0876-4af1-d553-a5b050aeab29"
      },
      "source": [
        "model.test_model(test_data=testloader)"
      ],
      "execution_count": 198,
      "outputs": [
        {
          "output_type": "display_data",
          "data": {
            "image/png": "[encoded data removed]",
            "text/plain": [
              "<Figure size 432x648 with 2 Axes>"
            ]
          },
          "metadata": {
            "tags": [],
            "image/png": {
              "width": 424,
              "height": 216
            }
          }
        }
      ]
    },
    {
      "cell_type": "code",
      "metadata": {
        "id": "aKsc45OtBToz",
        "colab_type": "code",
        "colab": {
          "base_uri": "https://localhost:8080/",
          "height": 102
        },
        "outputId": "12863ecb-2002-463e-abe5-f734d9b079b6"
      },
      "source": [
        "model.train_model(criterion='NLLLoss', optimizer='SGD', learning_rate=0.01, epochs=5, train_data=trainloader)"
      ],
      "execution_count": 199,
      "outputs": [
        {
          "output_type": "stream",
          "text": [
            "Training loss: 0.48687630423159994\n",
            "Training loss: 0.4568881973433596\n",
            "Training loss: 0.4337772714462616\n",
            "Training loss: 0.4160261910988578\n",
            "Training loss: 0.4000634295758662\n"
          ],
          "name": "stdout"
        }
      ]
    },
    {
      "cell_type": "code",
      "metadata": {
        "id": "uq80kVZPCQ2w",
        "colab_type": "code",
        "colab": {
          "base_uri": "https://localhost:8080/",
          "height": 233
        },
        "outputId": "dbdd68a3-8d8b-4233-dbd8-d01f4dc88521"
      },
      "source": [
        "model.test_model(test_data=testloader)"
      ],
      "execution_count": 200,
      "outputs": [
        {
          "output_type": "display_data",
          "data": {
            "image/png": "[encoded data removed]",
            "text/plain": [
              "<Figure size 432x648 with 2 Axes>"
            ]
          },
          "metadata": {
            "tags": [],
            "image/png": {
              "width": 424,
              "height": 216
            }
          }
        }
      ]
    },
    {
      "cell_type": "markdown",
      "metadata": {
        "id": "deM5H5JTCfne",
        "colab_type": "text"
      },
      "source": [
        "## Model 2\n",
        "## input_size = 784, output_size=10, hidden_layers=5, hidden_size=64, hidden_act='ReLU', output_act='LogSoftmax'\n",
        "\n",
        "## criterion='NLLLoss', optimizer='SGD', learning_rate=0.01, epochs=3"
      ]
    },
    {
      "cell_type": "code",
      "metadata": {
        "id": "msoaF8WxCdV9",
        "colab_type": "code",
        "colab": {
          "base_uri": "https://localhost:8080/",
          "height": 255
        },
        "outputId": "5fbb90c5-4fd1-47c2-aae8-3565d4ffccc7"
      },
      "source": [
        "model = sequential_model(input_size = 784, output_size=10, hidden_layers=5, hidden_size=64, hidden_act='ReLU', output_act='LogSoftmax')\n",
        "print(model)"
      ],
      "execution_count": 201,
      "outputs": [
        {
          "output_type": "stream",
          "text": [
            "sequential_model(\n",
            "  (Layer1): Linear(in_features=784, out_features=64, bias=True)\n",
            "  (ReLU1): ReLU()\n",
            "  (Layer2): Linear(in_features=64, out_features=32, bias=True)\n",
            "  (ReLU2): ReLU()\n",
            "  (Layer3): Linear(in_features=32, out_features=16, bias=True)\n",
            "  (ReLU3): ReLU()\n",
            "  (Layer4): Linear(in_features=16, out_features=8, bias=True)\n",
            "  (ReLU4): ReLU()\n",
            "  (Layer5): Linear(in_features=8, out_features=4, bias=True)\n",
            "  (ReLU5): ReLU()\n",
            "  (Layer6): Linear(in_features=4, out_features=10, bias=True)\n",
            "  (LogSoftmax6): LogSoftmax()\n",
            ")\n"
          ],
          "name": "stdout"
        }
      ]
    },
    {
      "cell_type": "code",
      "metadata": {
        "id": "G-fsJj2LCqhl",
        "colab_type": "code",
        "colab": {
          "base_uri": "https://localhost:8080/",
          "height": 68
        },
        "outputId": "a311f2be-c022-4404-89e7-fc9109a568f8"
      },
      "source": [
        "model.train_model(criterion='NLLLoss', optimizer='SGD', learning_rate=0.01, epochs=3, train_data=trainloader)"
      ],
      "execution_count": 202,
      "outputs": [
        {
          "output_type": "stream",
          "text": [
            "Training loss: 2.3219414786743457\n",
            "Training loss: 2.3054625510152724\n",
            "Training loss: 2.303065927552262\n"
          ],
          "name": "stdout"
        }
      ]
    },
    {
      "cell_type": "code",
      "metadata": {
        "id": "-ujfOlNSCqU8",
        "colab_type": "code",
        "colab": {
          "base_uri": "https://localhost:8080/",
          "height": 233
        },
        "outputId": "cd8e0e67-f8b8-41eb-85f8-ed336a4c1c2a"
      },
      "source": [
        "model.test_model(test_data=testloader)"
      ],
      "execution_count": 203,
      "outputs": [
        {
          "output_type": "display_data",
          "data": {
            "image/png": "[encoded data removed]",
            "text/plain": [
              "<Figure size 432x648 with 2 Axes>"
            ]
          },
          "metadata": {
            "tags": [],
            "image/png": {
              "width": 424,
              "height": 216
            }
          }
        }
      ]
    },
    {
      "cell_type": "markdown",
      "metadata": {
        "id": "ucpmbKBbEE3o",
        "colab_type": "text"
      },
      "source": [
        "## Model 3\n",
        "## input_size = 784, output_size=10, hidden_layers=5, hidden_size=64, hidden_act='ReLU', output_act='LogSoftmax'\n",
        "\n",
        "## criterion='NLLLoss', optimizer='SGD', learning_rate=0.1, epochs=5"
      ]
    },
    {
      "cell_type": "code",
      "metadata": {
        "id": "TwDl6qt6ENFk",
        "colab_type": "code",
        "colab": {
          "base_uri": "https://localhost:8080/",
          "height": 255
        },
        "outputId": "857d9274-1ef6-491e-a8cf-05d5e4a7faf6"
      },
      "source": [
        "model = sequential_model(input_size = 784, output_size=10, hidden_layers=5, hidden_size=64, hidden_act='ReLU', output_act='LogSoftmax')\n",
        "print(model)"
      ],
      "execution_count": 207,
      "outputs": [
        {
          "output_type": "stream",
          "text": [
            "sequential_model(\n",
            "  (Layer1): Linear(in_features=784, out_features=64, bias=True)\n",
            "  (ReLU1): ReLU()\n",
            "  (Layer2): Linear(in_features=64, out_features=32, bias=True)\n",
            "  (ReLU2): ReLU()\n",
            "  (Layer3): Linear(in_features=32, out_features=16, bias=True)\n",
            "  (ReLU3): ReLU()\n",
            "  (Layer4): Linear(in_features=16, out_features=8, bias=True)\n",
            "  (ReLU4): ReLU()\n",
            "  (Layer5): Linear(in_features=8, out_features=4, bias=True)\n",
            "  (ReLU5): ReLU()\n",
            "  (Layer6): Linear(in_features=4, out_features=10, bias=True)\n",
            "  (LogSoftmax6): LogSoftmax()\n",
            ")\n"
          ],
          "name": "stdout"
        }
      ]
    },
    {
      "cell_type": "code",
      "metadata": {
        "id": "YbVuhOlJEM8T",
        "colab_type": "code",
        "colab": {
          "base_uri": "https://localhost:8080/",
          "height": 102
        },
        "outputId": "44bcc721-7bdd-475e-dc87-12cfa864fff5"
      },
      "source": [
        "model.train_model(criterion='NLLLoss', optimizer='SGD', learning_rate=0.1, epochs=5, train_data=trainloader)"
      ],
      "execution_count": 208,
      "outputs": [
        {
          "output_type": "stream",
          "text": [
            "Training loss: 1.4599745208139359\n",
            "Training loss: 0.7109361516673174\n",
            "Training loss: 0.5455586391407797\n",
            "Training loss: 0.4787496767445668\n",
            "Training loss: 0.4342344420423894\n"
          ],
          "name": "stdout"
        }
      ]
    },
    {
      "cell_type": "code",
      "metadata": {
        "id": "ocy_BcvTEUDz",
        "colab_type": "code",
        "colab": {
          "base_uri": "https://localhost:8080/",
          "height": 233
        },
        "outputId": "d06bf704-1968-422c-927c-e5c852ae5f04"
      },
      "source": [
        "model.test_model(test_data=testloader)"
      ],
      "execution_count": 211,
      "outputs": [
        {
          "output_type": "display_data",
          "data": {
            "image/png": "[encoded data removed]",
            "text/plain": [
              "<Figure size 432x648 with 2 Axes>"
            ]
          },
          "metadata": {
            "tags": [],
            "image/png": {
              "width": 424,
              "height": 216
            }
          }
        }
      ]
    },
    {
      "cell_type": "markdown",
      "metadata": {
        "id": "9kv9KgdqDngW",
        "colab_type": "text"
      },
      "source": [
        "## Model 4\n",
        "## input_size = 784, output_size=10, hidden_layers=3, hidden_size=256, hidden_act='ReLU', output_act='LogSoftmax'\n",
        "\n",
        "## criterion='NLLLoss', optimizer='SGD', learning_rate=0.01, epochs=3"
      ]
    },
    {
      "cell_type": "code",
      "metadata": {
        "id": "gBbP3QT5CqJf",
        "colab_type": "code",
        "colab": {
          "base_uri": "https://localhost:8080/",
          "height": 187
        },
        "outputId": "2fab986d-3c27-4e85-82dc-9f62bbedf8ba"
      },
      "source": [
        "model = sequential_model(input_size = 784, output_size=10, hidden_layers=3, hidden_size=256, hidden_act='ReLU', output_act='LogSoftmax')\n",
        "print(model)"
      ],
      "execution_count": 204,
      "outputs": [
        {
          "output_type": "stream",
          "text": [
            "sequential_model(\n",
            "  (Layer1): Linear(in_features=784, out_features=256, bias=True)\n",
            "  (ReLU1): ReLU()\n",
            "  (Layer2): Linear(in_features=256, out_features=128, bias=True)\n",
            "  (ReLU2): ReLU()\n",
            "  (Layer3): Linear(in_features=128, out_features=64, bias=True)\n",
            "  (ReLU3): ReLU()\n",
            "  (Layer4): Linear(in_features=64, out_features=10, bias=True)\n",
            "  (LogSoftmax4): LogSoftmax()\n",
            ")\n"
          ],
          "name": "stdout"
        }
      ]
    },
    {
      "cell_type": "code",
      "metadata": {
        "id": "oe6W5-3HDwHT",
        "colab_type": "code",
        "colab": {
          "base_uri": "https://localhost:8080/",
          "height": 68
        },
        "outputId": "be3c38d1-bab0-4364-96ec-9e9ce405f90b"
      },
      "source": [
        "model.train_model(criterion='NLLLoss', optimizer='SGD', learning_rate=0.01, epochs=3, train_data=trainloader)"
      ],
      "execution_count": 205,
      "outputs": [
        {
          "output_type": "stream",
          "text": [
            "Training loss: 1.3736734012169625\n",
            "Training loss: 0.6291436284526325\n",
            "Training loss: 0.5299630418642244\n"
          ],
          "name": "stdout"
        }
      ]
    },
    {
      "cell_type": "code",
      "metadata": {
        "id": "7T_0bPV_Dzk2",
        "colab_type": "code",
        "colab": {
          "base_uri": "https://localhost:8080/",
          "height": 233
        },
        "outputId": "658541c3-4bf4-4b9a-d69a-dbe67f4c73ee"
      },
      "source": [
        "model.test_model(test_data=testloader)"
      ],
      "execution_count": 206,
      "outputs": [
        {
          "output_type": "display_data",
          "data": {
            "image/png": "[encoded data removed]",
            "text/plain": [
              "<Figure size 432x648 with 2 Axes>"
            ]
          },
          "metadata": {
            "tags": [],
            "image/png": {
              "width": 424,
              "height": 216
            }
          }
        }
      ]
    }
  ]
}